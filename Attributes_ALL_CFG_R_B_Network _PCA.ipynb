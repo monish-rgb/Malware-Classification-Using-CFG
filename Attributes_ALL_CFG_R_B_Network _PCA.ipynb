{
 "cells": [
  {
   "cell_type": "markdown",
   "metadata": {
    "id": "NnRsBtk0YYx9"
   },
   "source": [
    "MAX ATTTRIBUTES ARE TAKEN"
   ]
  },
  {
   "cell_type": "code",
   "execution_count": 424,
   "metadata": {
    "id": "xkAi6UD7Wchq"
   },
   "outputs": [],
   "source": [
    "import numpy as np\n",
    "import pandas as pd\n",
    "import matplotlib.pyplot as plt\n",
    "from sklearn.ensemble import RandomForestClassifier\n",
    "from sklearn.model_selection import train_test_split\n",
    "from sklearn.metrics import accuracy_score"
   ]
  },
  {
   "cell_type": "code",
   "execution_count": 425,
   "metadata": {
    "id": "BdW80SjSXtSO"
   },
   "outputs": [],
   "source": [
    "df = pd.read_csv('ACFG_All_R_B_Networkx.csv')"
   ]
  },
  {
   "cell_type": "code",
   "execution_count": 426,
   "metadata": {
    "colab": {
     "base_uri": "https://localhost:8080/",
     "height": 334
    },
    "id": "QpAl4dFTX8UU",
    "outputId": "edd78fcb-28ac-4445-b109-820b7270eb4a"
   },
   "outputs": [
    {
     "data": {
      "text/html": [
       "<div>\n",
       "<style scoped>\n",
       "    .dataframe tbody tr th:only-of-type {\n",
       "        vertical-align: middle;\n",
       "    }\n",
       "\n",
       "    .dataframe tbody tr th {\n",
       "        vertical-align: top;\n",
       "    }\n",
       "\n",
       "    .dataframe thead th {\n",
       "        text-align: right;\n",
       "    }\n",
       "</style>\n",
       "<table border=\"1\" class=\"dataframe\">\n",
       "  <thead>\n",
       "    <tr style=\"text-align: right;\">\n",
       "      <th></th>\n",
       "      <th>Hash Value</th>\n",
       "      <th>Nodes</th>\n",
       "      <th>Edges</th>\n",
       "      <th>Highest-Indegree</th>\n",
       "      <th>Hightes-Outdegree</th>\n",
       "      <th>Highest-Degree</th>\n",
       "      <th>Average Degree</th>\n",
       "      <th>Network diameter</th>\n",
       "      <th>Graph Density</th>\n",
       "      <th>Average Authority Score</th>\n",
       "      <th>...</th>\n",
       "      <th>Median No of numeric constants</th>\n",
       "      <th>Std No of function calls</th>\n",
       "      <th>Std No of logical calls</th>\n",
       "      <th>Std No of Arithmetic instructions</th>\n",
       "      <th>Std No of transfer instructions</th>\n",
       "      <th>Std No of move instructions</th>\n",
       "      <th>Std No of compare instructions</th>\n",
       "      <th>Std Total No of instructions</th>\n",
       "      <th>Std No of numeric constants</th>\n",
       "      <th>Class</th>\n",
       "    </tr>\n",
       "  </thead>\n",
       "  <tbody>\n",
       "    <tr>\n",
       "      <th>34</th>\n",
       "      <td>795be391d2d68d9965a0904e500f4ed0bf144f20d60d8e...</td>\n",
       "      <td>141</td>\n",
       "      <td>158</td>\n",
       "      <td>6</td>\n",
       "      <td>2</td>\n",
       "      <td>7</td>\n",
       "      <td>1.120567</td>\n",
       "      <td>56</td>\n",
       "      <td>0.008004</td>\n",
       "      <td>0.007092</td>\n",
       "      <td>...</td>\n",
       "      <td>0.0</td>\n",
       "      <td>0.368641</td>\n",
       "      <td>0.734564</td>\n",
       "      <td>0</td>\n",
       "      <td>0.499564</td>\n",
       "      <td>1.612597</td>\n",
       "      <td>0.369665</td>\n",
       "      <td>4.281967</td>\n",
       "      <td>1.103886</td>\n",
       "      <td>Ransom</td>\n",
       "    </tr>\n",
       "    <tr>\n",
       "      <th>228</th>\n",
       "      <td>206400</td>\n",
       "      <td>414</td>\n",
       "      <td>539</td>\n",
       "      <td>7</td>\n",
       "      <td>3</td>\n",
       "      <td>8</td>\n",
       "      <td>1.301932</td>\n",
       "      <td>30</td>\n",
       "      <td>0.003152</td>\n",
       "      <td>0.002415</td>\n",
       "      <td>...</td>\n",
       "      <td>0.0</td>\n",
       "      <td>0.434307</td>\n",
       "      <td>0.509812</td>\n",
       "      <td>0</td>\n",
       "      <td>0.476867</td>\n",
       "      <td>1.495252</td>\n",
       "      <td>0.384138</td>\n",
       "      <td>2.997575</td>\n",
       "      <td>0.673943</td>\n",
       "      <td>Benign</td>\n",
       "    </tr>\n",
       "    <tr>\n",
       "      <th>159</th>\n",
       "      <td>464673</td>\n",
       "      <td>294</td>\n",
       "      <td>418</td>\n",
       "      <td>8</td>\n",
       "      <td>2</td>\n",
       "      <td>10</td>\n",
       "      <td>1.421769</td>\n",
       "      <td>28</td>\n",
       "      <td>0.004852</td>\n",
       "      <td>0.003401</td>\n",
       "      <td>...</td>\n",
       "      <td>1.0</td>\n",
       "      <td>0.446257</td>\n",
       "      <td>0.551203</td>\n",
       "      <td>0</td>\n",
       "      <td>0.453917</td>\n",
       "      <td>2.139916</td>\n",
       "      <td>0.432296</td>\n",
       "      <td>2.945362</td>\n",
       "      <td>0.955751</td>\n",
       "      <td>Benign</td>\n",
       "    </tr>\n",
       "    <tr>\n",
       "      <th>236</th>\n",
       "      <td>183424</td>\n",
       "      <td>429</td>\n",
       "      <td>536</td>\n",
       "      <td>6</td>\n",
       "      <td>3</td>\n",
       "      <td>7</td>\n",
       "      <td>1.249417</td>\n",
       "      <td>43</td>\n",
       "      <td>0.002919</td>\n",
       "      <td>0.002331</td>\n",
       "      <td>...</td>\n",
       "      <td>0.0</td>\n",
       "      <td>0.463995</td>\n",
       "      <td>0.544723</td>\n",
       "      <td>0</td>\n",
       "      <td>0.435851</td>\n",
       "      <td>1.625582</td>\n",
       "      <td>0.372066</td>\n",
       "      <td>2.349804</td>\n",
       "      <td>0.622724</td>\n",
       "      <td>Benign</td>\n",
       "    </tr>\n",
       "    <tr>\n",
       "      <th>226</th>\n",
       "      <td>456648</td>\n",
       "      <td>412</td>\n",
       "      <td>533</td>\n",
       "      <td>7</td>\n",
       "      <td>3</td>\n",
       "      <td>8</td>\n",
       "      <td>1.293689</td>\n",
       "      <td>28</td>\n",
       "      <td>0.003148</td>\n",
       "      <td>0.002427</td>\n",
       "      <td>...</td>\n",
       "      <td>0.0</td>\n",
       "      <td>0.439805</td>\n",
       "      <td>0.670196</td>\n",
       "      <td>0</td>\n",
       "      <td>0.457094</td>\n",
       "      <td>1.318810</td>\n",
       "      <td>0.380271</td>\n",
       "      <td>2.336701</td>\n",
       "      <td>0.748565</td>\n",
       "      <td>Benign</td>\n",
       "    </tr>\n",
       "  </tbody>\n",
       "</table>\n",
       "<p>5 rows × 61 columns</p>\n",
       "</div>"
      ],
      "text/plain": [
       "                                            Hash Value  Nodes  Edges  \\\n",
       "34   795be391d2d68d9965a0904e500f4ed0bf144f20d60d8e...    141    158   \n",
       "228                                             206400    414    539   \n",
       "159                                             464673    294    418   \n",
       "236                                             183424    429    536   \n",
       "226                                             456648    412    533   \n",
       "\n",
       "     Highest-Indegree  Hightes-Outdegree  Highest-Degree  Average Degree  \\\n",
       "34                  6                  2               7        1.120567   \n",
       "228                 7                  3               8        1.301932   \n",
       "159                 8                  2              10        1.421769   \n",
       "236                 6                  3               7        1.249417   \n",
       "226                 7                  3               8        1.293689   \n",
       "\n",
       "     Network diameter  Graph Density  Average Authority Score  ...  \\\n",
       "34                 56       0.008004                 0.007092  ...   \n",
       "228                30       0.003152                 0.002415  ...   \n",
       "159                28       0.004852                 0.003401  ...   \n",
       "236                43       0.002919                 0.002331  ...   \n",
       "226                28       0.003148                 0.002427  ...   \n",
       "\n",
       "     Median No of numeric constants  Std No of function calls  \\\n",
       "34                              0.0                  0.368641   \n",
       "228                             0.0                  0.434307   \n",
       "159                             1.0                  0.446257   \n",
       "236                             0.0                  0.463995   \n",
       "226                             0.0                  0.439805   \n",
       "\n",
       "     Std No of logical calls  Std No of Arithmetic instructions  \\\n",
       "34                  0.734564                                  0   \n",
       "228                 0.509812                                  0   \n",
       "159                 0.551203                                  0   \n",
       "236                 0.544723                                  0   \n",
       "226                 0.670196                                  0   \n",
       "\n",
       "     Std No of transfer instructions  Std No of move instructions  \\\n",
       "34                          0.499564                     1.612597   \n",
       "228                         0.476867                     1.495252   \n",
       "159                         0.453917                     2.139916   \n",
       "236                         0.435851                     1.625582   \n",
       "226                         0.457094                     1.318810   \n",
       "\n",
       "     Std No of compare instructions  Std Total No of instructions  \\\n",
       "34                         0.369665                      4.281967   \n",
       "228                        0.384138                      2.997575   \n",
       "159                        0.432296                      2.945362   \n",
       "236                        0.372066                      2.349804   \n",
       "226                        0.380271                      2.336701   \n",
       "\n",
       "     Std No of numeric constants   Class  \n",
       "34                      1.103886  Ransom  \n",
       "228                     0.673943  Benign  \n",
       "159                     0.955751  Benign  \n",
       "236                     0.622724  Benign  \n",
       "226                     0.748565  Benign  \n",
       "\n",
       "[5 rows x 61 columns]"
      ]
     },
     "execution_count": 426,
     "metadata": {},
     "output_type": "execute_result"
    }
   ],
   "source": [
    "df = df.sample(frac = 1)\n",
    "df.head()"
   ]
  },
  {
   "cell_type": "code",
   "execution_count": 427,
   "metadata": {
    "colab": {
     "base_uri": "https://localhost:8080/"
    },
    "id": "W2FKjK8TX96g",
    "outputId": "efec2469-29b0-4766-f484-98aed4f63604"
   },
   "outputs": [
    {
     "data": {
      "text/plain": [
       "Hash Value                        0\n",
       "Nodes                             0\n",
       "Edges                             0\n",
       "Highest-Indegree                  0\n",
       "Hightes-Outdegree                 0\n",
       "                                 ..\n",
       "Std No of move instructions       0\n",
       "Std No of compare instructions    0\n",
       "Std Total No of instructions      0\n",
       "Std No of numeric constants       0\n",
       "Class                             0\n",
       "Length: 61, dtype: int64"
      ]
     },
     "execution_count": 427,
     "metadata": {},
     "output_type": "execute_result"
    }
   ],
   "source": [
    "df.isnull().sum()"
   ]
  },
  {
   "cell_type": "code",
   "execution_count": 428,
   "metadata": {
    "colab": {
     "base_uri": "https://localhost:8080/",
     "height": 522
    },
    "id": "ndGa2vrjb0Jb",
    "outputId": "b0e0255d-f0c1-4353-fe89-654c19afb5fc"
   },
   "outputs": [
    {
     "data": {
      "text/html": [
       "<div>\n",
       "<style scoped>\n",
       "    .dataframe tbody tr th:only-of-type {\n",
       "        vertical-align: middle;\n",
       "    }\n",
       "\n",
       "    .dataframe tbody tr th {\n",
       "        vertical-align: top;\n",
       "    }\n",
       "\n",
       "    .dataframe thead th {\n",
       "        text-align: right;\n",
       "    }\n",
       "</style>\n",
       "<table border=\"1\" class=\"dataframe\">\n",
       "  <thead>\n",
       "    <tr style=\"text-align: right;\">\n",
       "      <th></th>\n",
       "      <th>Nodes</th>\n",
       "      <th>Edges</th>\n",
       "      <th>Highest-Indegree</th>\n",
       "      <th>Hightes-Outdegree</th>\n",
       "      <th>Highest-Degree</th>\n",
       "      <th>Average Degree</th>\n",
       "      <th>Network diameter</th>\n",
       "      <th>Graph Density</th>\n",
       "      <th>Average Authority Score</th>\n",
       "      <th>Average Hub Score</th>\n",
       "      <th>...</th>\n",
       "      <th>Median Total No of instructions</th>\n",
       "      <th>Median No of numeric constants</th>\n",
       "      <th>Std No of function calls</th>\n",
       "      <th>Std No of logical calls</th>\n",
       "      <th>Std No of Arithmetic instructions</th>\n",
       "      <th>Std No of transfer instructions</th>\n",
       "      <th>Std No of move instructions</th>\n",
       "      <th>Std No of compare instructions</th>\n",
       "      <th>Std Total No of instructions</th>\n",
       "      <th>Std No of numeric constants</th>\n",
       "    </tr>\n",
       "  </thead>\n",
       "  <tbody>\n",
       "    <tr>\n",
       "      <th>34</th>\n",
       "      <td>141</td>\n",
       "      <td>158</td>\n",
       "      <td>6</td>\n",
       "      <td>2</td>\n",
       "      <td>7</td>\n",
       "      <td>1.120567</td>\n",
       "      <td>56</td>\n",
       "      <td>0.008004</td>\n",
       "      <td>0.007092</td>\n",
       "      <td>0.007092</td>\n",
       "      <td>...</td>\n",
       "      <td>3.0</td>\n",
       "      <td>0.0</td>\n",
       "      <td>0.368641</td>\n",
       "      <td>0.734564</td>\n",
       "      <td>0</td>\n",
       "      <td>0.499564</td>\n",
       "      <td>1.612597</td>\n",
       "      <td>0.369665</td>\n",
       "      <td>4.281967</td>\n",
       "      <td>1.103886</td>\n",
       "    </tr>\n",
       "    <tr>\n",
       "      <th>228</th>\n",
       "      <td>414</td>\n",
       "      <td>539</td>\n",
       "      <td>7</td>\n",
       "      <td>3</td>\n",
       "      <td>8</td>\n",
       "      <td>1.301932</td>\n",
       "      <td>30</td>\n",
       "      <td>0.003152</td>\n",
       "      <td>0.002415</td>\n",
       "      <td>0.002415</td>\n",
       "      <td>...</td>\n",
       "      <td>2.0</td>\n",
       "      <td>0.0</td>\n",
       "      <td>0.434307</td>\n",
       "      <td>0.509812</td>\n",
       "      <td>0</td>\n",
       "      <td>0.476867</td>\n",
       "      <td>1.495252</td>\n",
       "      <td>0.384138</td>\n",
       "      <td>2.997575</td>\n",
       "      <td>0.673943</td>\n",
       "    </tr>\n",
       "    <tr>\n",
       "      <th>159</th>\n",
       "      <td>294</td>\n",
       "      <td>418</td>\n",
       "      <td>8</td>\n",
       "      <td>2</td>\n",
       "      <td>10</td>\n",
       "      <td>1.421769</td>\n",
       "      <td>28</td>\n",
       "      <td>0.004852</td>\n",
       "      <td>0.003401</td>\n",
       "      <td>0.003401</td>\n",
       "      <td>...</td>\n",
       "      <td>2.0</td>\n",
       "      <td>1.0</td>\n",
       "      <td>0.446257</td>\n",
       "      <td>0.551203</td>\n",
       "      <td>0</td>\n",
       "      <td>0.453917</td>\n",
       "      <td>2.139916</td>\n",
       "      <td>0.432296</td>\n",
       "      <td>2.945362</td>\n",
       "      <td>0.955751</td>\n",
       "    </tr>\n",
       "    <tr>\n",
       "      <th>236</th>\n",
       "      <td>429</td>\n",
       "      <td>536</td>\n",
       "      <td>6</td>\n",
       "      <td>3</td>\n",
       "      <td>7</td>\n",
       "      <td>1.249417</td>\n",
       "      <td>43</td>\n",
       "      <td>0.002919</td>\n",
       "      <td>0.002331</td>\n",
       "      <td>0.002331</td>\n",
       "      <td>...</td>\n",
       "      <td>2.0</td>\n",
       "      <td>0.0</td>\n",
       "      <td>0.463995</td>\n",
       "      <td>0.544723</td>\n",
       "      <td>0</td>\n",
       "      <td>0.435851</td>\n",
       "      <td>1.625582</td>\n",
       "      <td>0.372066</td>\n",
       "      <td>2.349804</td>\n",
       "      <td>0.622724</td>\n",
       "    </tr>\n",
       "    <tr>\n",
       "      <th>226</th>\n",
       "      <td>412</td>\n",
       "      <td>533</td>\n",
       "      <td>7</td>\n",
       "      <td>3</td>\n",
       "      <td>8</td>\n",
       "      <td>1.293689</td>\n",
       "      <td>28</td>\n",
       "      <td>0.003148</td>\n",
       "      <td>0.002427</td>\n",
       "      <td>0.002427</td>\n",
       "      <td>...</td>\n",
       "      <td>2.0</td>\n",
       "      <td>0.0</td>\n",
       "      <td>0.439805</td>\n",
       "      <td>0.670196</td>\n",
       "      <td>0</td>\n",
       "      <td>0.457094</td>\n",
       "      <td>1.318810</td>\n",
       "      <td>0.380271</td>\n",
       "      <td>2.336701</td>\n",
       "      <td>0.748565</td>\n",
       "    </tr>\n",
       "    <tr>\n",
       "      <th>...</th>\n",
       "      <td>...</td>\n",
       "      <td>...</td>\n",
       "      <td>...</td>\n",
       "      <td>...</td>\n",
       "      <td>...</td>\n",
       "      <td>...</td>\n",
       "      <td>...</td>\n",
       "      <td>...</td>\n",
       "      <td>...</td>\n",
       "      <td>...</td>\n",
       "      <td>...</td>\n",
       "      <td>...</td>\n",
       "      <td>...</td>\n",
       "      <td>...</td>\n",
       "      <td>...</td>\n",
       "      <td>...</td>\n",
       "      <td>...</td>\n",
       "      <td>...</td>\n",
       "      <td>...</td>\n",
       "      <td>...</td>\n",
       "      <td>...</td>\n",
       "    </tr>\n",
       "    <tr>\n",
       "      <th>134</th>\n",
       "      <td>259</td>\n",
       "      <td>369</td>\n",
       "      <td>7</td>\n",
       "      <td>2</td>\n",
       "      <td>7</td>\n",
       "      <td>1.424710</td>\n",
       "      <td>27</td>\n",
       "      <td>0.005522</td>\n",
       "      <td>0.003861</td>\n",
       "      <td>0.003861</td>\n",
       "      <td>...</td>\n",
       "      <td>2.0</td>\n",
       "      <td>0.0</td>\n",
       "      <td>0.480538</td>\n",
       "      <td>0.463476</td>\n",
       "      <td>0</td>\n",
       "      <td>0.396073</td>\n",
       "      <td>1.689179</td>\n",
       "      <td>0.374048</td>\n",
       "      <td>2.683230</td>\n",
       "      <td>0.621346</td>\n",
       "    </tr>\n",
       "    <tr>\n",
       "      <th>160</th>\n",
       "      <td>296</td>\n",
       "      <td>398</td>\n",
       "      <td>8</td>\n",
       "      <td>3</td>\n",
       "      <td>9</td>\n",
       "      <td>1.344595</td>\n",
       "      <td>30</td>\n",
       "      <td>0.004558</td>\n",
       "      <td>0.003378</td>\n",
       "      <td>0.003378</td>\n",
       "      <td>...</td>\n",
       "      <td>2.0</td>\n",
       "      <td>0.0</td>\n",
       "      <td>0.437103</td>\n",
       "      <td>0.553597</td>\n",
       "      <td>0</td>\n",
       "      <td>0.451049</td>\n",
       "      <td>1.282459</td>\n",
       "      <td>0.413374</td>\n",
       "      <td>2.286546</td>\n",
       "      <td>0.692363</td>\n",
       "    </tr>\n",
       "    <tr>\n",
       "      <th>117</th>\n",
       "      <td>125</td>\n",
       "      <td>172</td>\n",
       "      <td>5</td>\n",
       "      <td>2</td>\n",
       "      <td>6</td>\n",
       "      <td>1.376000</td>\n",
       "      <td>14</td>\n",
       "      <td>0.011097</td>\n",
       "      <td>0.008000</td>\n",
       "      <td>0.008000</td>\n",
       "      <td>...</td>\n",
       "      <td>2.0</td>\n",
       "      <td>0.0</td>\n",
       "      <td>0.480608</td>\n",
       "      <td>0.463590</td>\n",
       "      <td>0</td>\n",
       "      <td>0.395660</td>\n",
       "      <td>1.688848</td>\n",
       "      <td>0.373548</td>\n",
       "      <td>2.681484</td>\n",
       "      <td>0.622770</td>\n",
       "    </tr>\n",
       "    <tr>\n",
       "      <th>329</th>\n",
       "      <td>4026</td>\n",
       "      <td>5240</td>\n",
       "      <td>14</td>\n",
       "      <td>3</td>\n",
       "      <td>16</td>\n",
       "      <td>1.301540</td>\n",
       "      <td>110</td>\n",
       "      <td>0.000323</td>\n",
       "      <td>0.000248</td>\n",
       "      <td>0.000248</td>\n",
       "      <td>...</td>\n",
       "      <td>2.0</td>\n",
       "      <td>0.0</td>\n",
       "      <td>0.439659</td>\n",
       "      <td>0.459226</td>\n",
       "      <td>0</td>\n",
       "      <td>0.371133</td>\n",
       "      <td>1.575436</td>\n",
       "      <td>0.408601</td>\n",
       "      <td>2.844187</td>\n",
       "      <td>0.656998</td>\n",
       "    </tr>\n",
       "    <tr>\n",
       "      <th>338</th>\n",
       "      <td>6416</td>\n",
       "      <td>9610</td>\n",
       "      <td>11</td>\n",
       "      <td>8</td>\n",
       "      <td>13</td>\n",
       "      <td>1.497818</td>\n",
       "      <td>100</td>\n",
       "      <td>0.000233</td>\n",
       "      <td>0.000156</td>\n",
       "      <td>0.000156</td>\n",
       "      <td>...</td>\n",
       "      <td>2.0</td>\n",
       "      <td>0.0</td>\n",
       "      <td>0.408597</td>\n",
       "      <td>0.591357</td>\n",
       "      <td>0</td>\n",
       "      <td>0.452604</td>\n",
       "      <td>2.080642</td>\n",
       "      <td>0.404434</td>\n",
       "      <td>3.160026</td>\n",
       "      <td>0.903990</td>\n",
       "    </tr>\n",
       "  </tbody>\n",
       "</table>\n",
       "<p>345 rows × 59 columns</p>\n",
       "</div>"
      ],
      "text/plain": [
       "     Nodes  Edges  Highest-Indegree  Hightes-Outdegree  Highest-Degree  \\\n",
       "34     141    158                 6                  2               7   \n",
       "228    414    539                 7                  3               8   \n",
       "159    294    418                 8                  2              10   \n",
       "236    429    536                 6                  3               7   \n",
       "226    412    533                 7                  3               8   \n",
       "..     ...    ...               ...                ...             ...   \n",
       "134    259    369                 7                  2               7   \n",
       "160    296    398                 8                  3               9   \n",
       "117    125    172                 5                  2               6   \n",
       "329   4026   5240                14                  3              16   \n",
       "338   6416   9610                11                  8              13   \n",
       "\n",
       "     Average Degree  Network diameter  Graph Density  Average Authority Score  \\\n",
       "34         1.120567                56       0.008004                 0.007092   \n",
       "228        1.301932                30       0.003152                 0.002415   \n",
       "159        1.421769                28       0.004852                 0.003401   \n",
       "236        1.249417                43       0.002919                 0.002331   \n",
       "226        1.293689                28       0.003148                 0.002427   \n",
       "..              ...               ...            ...                      ...   \n",
       "134        1.424710                27       0.005522                 0.003861   \n",
       "160        1.344595                30       0.004558                 0.003378   \n",
       "117        1.376000                14       0.011097                 0.008000   \n",
       "329        1.301540               110       0.000323                 0.000248   \n",
       "338        1.497818               100       0.000233                 0.000156   \n",
       "\n",
       "     Average Hub Score  ...  Median Total No of instructions  \\\n",
       "34            0.007092  ...                              3.0   \n",
       "228           0.002415  ...                              2.0   \n",
       "159           0.003401  ...                              2.0   \n",
       "236           0.002331  ...                              2.0   \n",
       "226           0.002427  ...                              2.0   \n",
       "..                 ...  ...                              ...   \n",
       "134           0.003861  ...                              2.0   \n",
       "160           0.003378  ...                              2.0   \n",
       "117           0.008000  ...                              2.0   \n",
       "329           0.000248  ...                              2.0   \n",
       "338           0.000156  ...                              2.0   \n",
       "\n",
       "     Median No of numeric constants  Std No of function calls  \\\n",
       "34                              0.0                  0.368641   \n",
       "228                             0.0                  0.434307   \n",
       "159                             1.0                  0.446257   \n",
       "236                             0.0                  0.463995   \n",
       "226                             0.0                  0.439805   \n",
       "..                              ...                       ...   \n",
       "134                             0.0                  0.480538   \n",
       "160                             0.0                  0.437103   \n",
       "117                             0.0                  0.480608   \n",
       "329                             0.0                  0.439659   \n",
       "338                             0.0                  0.408597   \n",
       "\n",
       "     Std No of logical calls  Std No of Arithmetic instructions  \\\n",
       "34                  0.734564                                  0   \n",
       "228                 0.509812                                  0   \n",
       "159                 0.551203                                  0   \n",
       "236                 0.544723                                  0   \n",
       "226                 0.670196                                  0   \n",
       "..                       ...                                ...   \n",
       "134                 0.463476                                  0   \n",
       "160                 0.553597                                  0   \n",
       "117                 0.463590                                  0   \n",
       "329                 0.459226                                  0   \n",
       "338                 0.591357                                  0   \n",
       "\n",
       "     Std No of transfer instructions  Std No of move instructions  \\\n",
       "34                          0.499564                     1.612597   \n",
       "228                         0.476867                     1.495252   \n",
       "159                         0.453917                     2.139916   \n",
       "236                         0.435851                     1.625582   \n",
       "226                         0.457094                     1.318810   \n",
       "..                               ...                          ...   \n",
       "134                         0.396073                     1.689179   \n",
       "160                         0.451049                     1.282459   \n",
       "117                         0.395660                     1.688848   \n",
       "329                         0.371133                     1.575436   \n",
       "338                         0.452604                     2.080642   \n",
       "\n",
       "     Std No of compare instructions  Std Total No of instructions  \\\n",
       "34                         0.369665                      4.281967   \n",
       "228                        0.384138                      2.997575   \n",
       "159                        0.432296                      2.945362   \n",
       "236                        0.372066                      2.349804   \n",
       "226                        0.380271                      2.336701   \n",
       "..                              ...                           ...   \n",
       "134                        0.374048                      2.683230   \n",
       "160                        0.413374                      2.286546   \n",
       "117                        0.373548                      2.681484   \n",
       "329                        0.408601                      2.844187   \n",
       "338                        0.404434                      3.160026   \n",
       "\n",
       "     Std No of numeric constants  \n",
       "34                      1.103886  \n",
       "228                     0.673943  \n",
       "159                     0.955751  \n",
       "236                     0.622724  \n",
       "226                     0.748565  \n",
       "..                           ...  \n",
       "134                     0.621346  \n",
       "160                     0.692363  \n",
       "117                     0.622770  \n",
       "329                     0.656998  \n",
       "338                     0.903990  \n",
       "\n",
       "[345 rows x 59 columns]"
      ]
     },
     "execution_count": 428,
     "metadata": {},
     "output_type": "execute_result"
    }
   ],
   "source": [
    "X = df.drop(['Hash Value','Class'],axis = 1)\n",
    "X"
   ]
  },
  {
   "cell_type": "code",
   "execution_count": 429,
   "metadata": {
    "colab": {
     "base_uri": "https://localhost:8080/"
    },
    "id": "Wf1Vl-NOcZrB",
    "outputId": "169950ff-bd60-478f-8ccf-74e19932b90e"
   },
   "outputs": [
    {
     "data": {
      "text/plain": [
       "34     Ransom\n",
       "228    Benign\n",
       "159    Benign\n",
       "236    Benign\n",
       "226    Benign\n",
       "        ...  \n",
       "134    Benign\n",
       "160    Benign\n",
       "117    Benign\n",
       "329    Benign\n",
       "338    Benign\n",
       "Name: Class, Length: 345, dtype: object"
      ]
     },
     "execution_count": 429,
     "metadata": {},
     "output_type": "execute_result"
    }
   ],
   "source": [
    "y= df['Class']\n",
    "y"
   ]
  },
  {
   "cell_type": "code",
   "execution_count": 430,
   "metadata": {
    "colab": {
     "base_uri": "https://localhost:8080/"
    },
    "id": "vEv8ZC3bdIaY",
    "outputId": "b092e95c-155b-440f-96dd-ec865fbb435f"
   },
   "outputs": [
    {
     "data": {
      "text/plain": [
       "array([1, 0, 0, 0, 0, 0, 0, 0, 0, 0, 0, 0, 0, 0, 0, 1, 0, 0, 0, 0, 0, 1,\n",
       "       0, 1, 0, 1, 0, 0, 0, 0, 0, 1, 0, 0, 1, 0, 1, 0, 1, 0, 0, 0, 0, 0,\n",
       "       0, 0, 1, 1, 0, 0, 1, 1, 1, 0, 0, 1, 1, 0, 0, 0, 1, 1, 0, 0, 0, 0,\n",
       "       1, 0, 0, 1, 0, 0, 1, 0, 0, 1, 0, 0, 0, 1, 0, 0, 0, 0, 1, 0, 0, 0,\n",
       "       0, 0, 0, 0, 1, 1, 0, 1, 1, 1, 1, 1, 1, 0, 0, 1, 0, 0, 0, 0, 1, 0,\n",
       "       0, 0, 1, 0, 0, 0, 0, 0, 0, 1, 1, 0, 1, 0, 0, 0, 0, 0, 0, 0, 0, 0,\n",
       "       0, 1, 0, 1, 0, 0, 0, 0, 1, 0, 0, 0, 0, 0, 0, 1, 0, 1, 1, 0, 1, 1,\n",
       "       0, 0, 1, 0, 0, 0, 1, 0, 0, 0, 1, 0, 0, 0, 1, 1, 1, 1, 0, 0, 0, 1,\n",
       "       1, 0, 1, 0, 0, 0, 1, 1, 1, 0, 0, 1, 1, 1, 1, 1, 1, 0, 0, 0, 1, 1,\n",
       "       0, 1, 1, 0, 0, 0, 1, 0, 0, 1, 1, 0, 0, 0, 0, 0, 0, 0, 0, 0, 0, 0,\n",
       "       1, 0, 0, 0, 0, 1, 0, 0, 0, 0, 0, 0, 0, 0, 1, 0, 0, 1, 0, 0, 1, 0,\n",
       "       1, 1, 1, 1, 0, 0, 0, 0, 1, 0, 0, 0, 1, 0, 0, 1, 0, 0, 0, 1, 0, 0,\n",
       "       0, 0, 0, 0, 1, 1, 1, 0, 1, 0, 0, 0, 0, 0, 1, 0, 1, 1, 1, 1, 1, 0,\n",
       "       0, 1, 0, 0, 0, 1, 0, 0, 0, 0, 0, 0, 0, 0, 1, 1, 0, 1, 0, 0, 0, 0,\n",
       "       1, 0, 1, 0, 0, 1, 1, 1, 1, 0, 0, 0, 0, 0, 0, 0, 1, 1, 1, 0, 0, 1,\n",
       "       0, 0, 1, 0, 0, 0, 0, 0, 0, 1, 0, 0, 0, 0, 0])"
      ]
     },
     "execution_count": 430,
     "metadata": {},
     "output_type": "execute_result"
    }
   ],
   "source": [
    "from sklearn.preprocessing import LabelEncoder\n",
    "labelencoder = LabelEncoder()\n",
    "y = labelencoder.fit_transform(y)\n",
    "y"
   ]
  },
  {
   "cell_type": "markdown",
   "metadata": {
    "id": "SUSyhc4XbdDj"
   },
   "source": [
    "# Without Normalisation"
   ]
  },
  {
   "cell_type": "markdown",
   "metadata": {
    "id": "-IYV3E1ZgEix"
   },
   "source": [
    "Random Forest Classifier"
   ]
  },
  {
   "cell_type": "code",
   "execution_count": 431,
   "metadata": {
    "id": "G5sC12bibXLZ"
   },
   "outputs": [],
   "source": [
    "X_train, X_test, y_train, y_test = train_test_split(X, y, test_size=0.25)\n",
    "\n",
    "# Initialize the Random Forest Classifier\n",
    "clf = RandomForestClassifier(n_estimators=100, random_state=42)  # You can adjust the number of estimators as needed\n",
    "\n",
    "# Train the model\n",
    "clf.fit(X_train, y_train)\n",
    "\n",
    "# Predict on the testing set\n",
    "y_pred = clf.predict(X_test)"
   ]
  },
  {
   "cell_type": "code",
   "execution_count": 432,
   "metadata": {
    "colab": {
     "base_uri": "https://localhost:8080/"
    },
    "id": "xbSO4kZqiJ61",
    "outputId": "8ba903f0-cb3a-4e9b-892e-066032921344"
   },
   "outputs": [
    {
     "name": "stdout",
     "output_type": "stream",
     "text": [
      "Accuracy: 0.9655172413793104\n",
      "Feature Importances:\n",
      "1. Feature 'Mean Total No of instructions': 0.11166842431470063\n",
      "2. Feature 'Max Total No of instructions': 0.0771819984922081\n",
      "3. Feature 'Average betweenness centrality': 0.07242250813458669\n",
      "4. Feature 'Std Total No of instructions': 0.06989382371555568\n",
      "5. Feature 'Mean No of numeric constants': 0.06948818073760765\n",
      "6. Feature 'Average Degree': 0.06947450927195976\n",
      "7. Feature 'Mean No of logical calls': 0.04944849800843813\n",
      "8. Feature 'Std No of numeric constants': 0.044228210070050115\n",
      "9. Feature 'Average Harmonic Closeness Centrality': 0.03869777648614793\n",
      "10. Feature 'Average Closeness Centrality': 0.036342486594314896\n",
      "11. Feature 'Max No of numeric constants': 0.029253670771213817\n",
      "12. Feature 'Average Eigenvector Centrality': 0.02780024544059915\n",
      "13. Feature 'Median No of numeric constants': 0.027782095168070092\n",
      "14. Feature 'Max No of logical calls': 0.023467691825399123\n",
      "15. Feature 'Std No of logical calls': 0.019561175496371444\n",
      "16. Feature 'Mean No of transfer instructions': 0.018882665905780794\n",
      "17. Feature 'Median Total No of instructions': 0.01678151817877712\n",
      "18. Feature 'Edges': 0.015564170988198777\n",
      "19. Feature 'Average Clustering Coefficient': 0.015386487670447584\n",
      "20. Feature 'Mean No of move instructions': 0.014980077760271602\n",
      "21. Feature 'Std No of move instructions': 0.014119360519035224\n",
      "22. Feature 'Std No of transfer instructions': 0.013444279464198019\n",
      "23. Feature 'Nodes': 0.012827005156280422\n",
      "24. Feature 'Average PageRank': 0.012273073805011702\n",
      "25. Feature 'Std No of compare instructions': 0.011817493065790443\n",
      "26. Feature 'Max No of move instructions': 0.011333941856299936\n",
      "27. Feature 'Mean No of compare instructions': 0.010020213857595323\n",
      "28. Feature 'Highest-Indegree': 0.009524259973081142\n",
      "29. Feature 'Median No of transfer instructions': 0.007905366467744333\n",
      "30. Feature 'Std No of function calls': 0.007724954609904151\n",
      "31. Feature 'Average Authority Score': 0.007480580881436056\n",
      "32. Feature 'Mean No of function calls': 0.007027407963850805\n",
      "33. Feature 'Average Hub Score': 0.003769696553218796\n",
      "34. Feature 'Median No of move instructions': 0.0033493659970800778\n",
      "35. Feature 'Highest-Degree': 0.003036967442461358\n",
      "36. Feature 'Assortativity': 0.002599035028816105\n",
      "37. Feature 'Average Path Length': 0.002586662031136663\n",
      "38. Feature 'Graph Density': 0.002321572370842862\n",
      "39. Feature 'Network diameter': 0.0022773158114080534\n",
      "40. Feature 'Modularity score': 0.0021461774517204193\n",
      "41. Feature 'Median No of function calls': 0.001939409041475268\n",
      "42. Feature 'Hightes-Outdegree': 0.0016027202094606489\n",
      "43. Feature 'Max No of compare instructions': 0.0005669254114532759\n",
      "44. Feature 'Max No of Arithmetic instructions': 0.0\n",
      "45. Feature 'Min No of transfer instructions': 0.0\n",
      "46. Feature 'Min Total No of instructions': 0.0\n",
      "47. Feature 'Min No of compare instructions': 0.0\n",
      "48. Feature 'Min No of move instructions': 0.0\n",
      "49. Feature 'Std No of Arithmetic instructions': 0.0\n",
      "50. Feature 'Min No of logical calls': 0.0\n",
      "51. Feature 'Mean No of Arithmetic instructions': 0.0\n",
      "52. Feature 'Median No of logical calls': 0.0\n",
      "53. Feature 'Min No of function calls': 0.0\n",
      "54. Feature 'Median No of compare instructions': 0.0\n",
      "55. Feature 'Median No of Arithmetic instructions': 0.0\n",
      "56. Feature 'Min No of numeric constants': 0.0\n",
      "57. Feature 'Max No of transfer instructions': 0.0\n",
      "58. Feature 'Max No of function calls': 0.0\n",
      "59. Feature 'Min No of Arithmetic instructions': 0.0\n"
     ]
    }
   ],
   "source": [
    "accuracy = accuracy_score(y_test, y_pred)\n",
    "print(\"Accuracy:\", accuracy)\n",
    "\n",
    "# Get feature importances\n",
    "importances = clf.feature_importances_\n",
    "\n",
    "# Sort feature importances in descending order\n",
    "sorted_idx = np.argsort(importances)[::-1]\n",
    "\n",
    "# Print feature importances\n",
    "print(\"Feature Importances:\")\n",
    "for i in range(X.shape[1]):\n",
    "    print(f\"{i+1}. Feature '{X.columns[sorted_idx[i]]}': {importances[sorted_idx[i]]}\")\n"
   ]
  },
  {
   "cell_type": "code",
   "execution_count": 433,
   "metadata": {
    "colab": {
     "base_uri": "https://localhost:8080/",
     "height": 732
    },
    "id": "kSLRe1MjeF3R",
    "outputId": "3e6f05c8-bbcb-48ca-d20b-fdae7f8bc31a"
   },
   "outputs": [
    {
     "data": {
      "image/png": "[encoded data removed]",
      "text/plain": [
       "<Figure size 1080x720 with 1 Axes>"
      ]
     },
     "metadata": {
      "needs_background": "light"
     },
     "output_type": "display_data"
    }
   ],
   "source": [
    "plt.figure(figsize=(15,10))\n",
    "plt.bar(range(X.shape[1]), importances[sorted_idx])\n",
    "plt.xticks(range(X.shape[1]), X.columns[sorted_idx], rotation='vertical')\n",
    "plt.xlabel('Feature')\n",
    "plt.ylabel('Feature Importance')\n",
    "plt.title('Feature Importances from Random Forest Classifier')\n",
    "plt.show()"
   ]
  },
  {
   "cell_type": "code",
   "execution_count": 434,
   "metadata": {
    "colab": {
     "base_uri": "https://localhost:8080/"
    },
    "id": "yoOWxXXvfdqt",
    "outputId": "d94c6ba1-58c3-48be-a1f8-1a54427cc146"
   },
   "outputs": [
    {
     "name": "stdout",
     "output_type": "stream",
     "text": [
      "Fold 1 accuracy: 1.0000\n",
      "Fold 2 accuracy: 1.0000\n",
      "Fold 3 accuracy: 1.0000\n",
      "Fold 4 accuracy: 1.0000\n",
      "Fold 5 accuracy: 0.9714\n",
      "Fold 6 accuracy: 1.0000\n",
      "Fold 7 accuracy: 1.0000\n",
      "Fold 8 accuracy: 0.9706\n",
      "Fold 9 accuracy: 1.0000\n",
      "Fold 10 accuracy: 1.0000\n",
      "Average accuracy: 0.9942\n"
     ]
    }
   ],
   "source": [
    "from sklearn.ensemble import RandomForestClassifier\n",
    "from sklearn.model_selection import cross_val_score\n",
    "\n",
    "rf_classifier = RandomForestClassifier(n_estimators=100, random_state=42)\n",
    "\n",
    "# Perform 10-fold cross-validation\n",
    "k = 10\n",
    "scores = cross_val_score(rf_classifier, X, y, cv=k)\n",
    "\n",
    "# Print the accuracy for each fold\n",
    "for i in range(k):\n",
    "    print(f\"Fold {i+1} accuracy: {scores[i]:.4f}\")\n",
    "\n",
    "# Print the average accuracy across all folds\n",
    "print(f\"Average accuracy: {scores.mean():.4f}\")\n"
   ]
  },
  {
   "cell_type": "markdown",
   "metadata": {
    "id": "-EuBr6uVgZxA"
   },
   "source": [
    "Svm Classifier"
   ]
  },
  {
   "cell_type": "code",
   "execution_count": 435,
   "metadata": {
    "colab": {
     "base_uri": "https://localhost:8080/",
     "height": 74
    },
    "id": "UrrleROjfzVa",
    "outputId": "1cd8d929-6028-4a56-c7db-96d4d668dde7"
   },
   "outputs": [
    {
     "data": {
      "text/plain": [
       "SVC(C=1000)"
      ]
     },
     "execution_count": 435,
     "metadata": {},
     "output_type": "execute_result"
    }
   ],
   "source": [
    "from sklearn.svm import SVC \n",
    "X_train, X_test, y_train, y_test = train_test_split(X, y, test_size=0.25)\n",
    "model = SVC(C=1000)\n",
    "model.fit(X_train, y_train)"
   ]
  },
  {
   "cell_type": "code",
   "execution_count": 436,
   "metadata": {
    "id": "NIPQaZKtgoid"
   },
   "outputs": [],
   "source": [
    "y_pred = model.predict(X_test)"
   ]
  },
  {
   "cell_type": "code",
   "execution_count": 437,
   "metadata": {
    "colab": {
     "base_uri": "https://localhost:8080/"
    },
    "id": "lTvs5debgq3t",
    "outputId": "e81e2dac-af5a-4c2f-d1be-dec930ba5e0b"
   },
   "outputs": [
    {
     "name": "stdout",
     "output_type": "stream",
     "text": [
      "0.9080459770114943\n"
     ]
    }
   ],
   "source": [
    "from sklearn.metrics import accuracy_score\n",
    "print(accuracy_score(y_test, y_pred))"
   ]
  },
  {
   "cell_type": "code",
   "execution_count": 438,
   "metadata": {
    "colab": {
     "base_uri": "https://localhost:8080/"
    },
    "id": "WWRUtEF3g57U",
    "outputId": "3467c662-5aa8-44db-a75e-dd478eb6be69"
   },
   "outputs": [
    {
     "name": "stdout",
     "output_type": "stream",
     "text": [
      "Fold 1 accuracy: 0.9714\n",
      "Fold 2 accuracy: 0.8286\n",
      "Fold 3 accuracy: 0.9714\n",
      "Fold 4 accuracy: 0.9429\n",
      "Fold 5 accuracy: 1.0000\n",
      "Fold 6 accuracy: 0.8824\n",
      "Fold 7 accuracy: 0.9706\n",
      "Fold 8 accuracy: 0.9706\n",
      "Fold 9 accuracy: 0.9118\n",
      "Fold 10 accuracy: 0.9118\n",
      "Average accuracy: 0.9361\n"
     ]
    }
   ],
   "source": [
    "from sklearn.ensemble import RandomForestClassifier\n",
    "from sklearn.model_selection import cross_val_score\n",
    "\n",
    "svm_classifier = SVC(C=1000)\n",
    "\n",
    "k = 10\n",
    "scores = cross_val_score(svm_classifier, X, y, cv=k)\n",
    "\n",
    "# Print the accuracy for each fold\n",
    "for i in range(k):\n",
    "    print(f\"Fold {i+1} accuracy: {scores[i]:.4f}\")\n",
    "\n",
    "# Print the average accuracy across all folds\n",
    "print(f\"Average accuracy: {scores.mean():.4f}\")"
   ]
  },
  {
   "cell_type": "markdown",
   "metadata": {
    "id": "Zvo9fpwmhd-D"
   },
   "source": [
    "Neural Network Model"
   ]
  },
  {
   "cell_type": "code",
   "execution_count": 439,
   "metadata": {
    "id": "WAZsz2H0hJ1s"
   },
   "outputs": [],
   "source": [
    "from tensorflow.keras.models import Sequential\n",
    "from tensorflow.keras.layers import Dense\n",
    "from numpy import unique,argmax"
   ]
  },
  {
   "cell_type": "code",
   "execution_count": 440,
   "metadata": {
    "id": "-o4ksX5Nh6ve"
   },
   "outputs": [],
   "source": [
    "xtrain, xtest, ytrain, ytest = train_test_split(X, y, test_size = 0.25)\n",
    "n_features = X.shape[1]\n",
    "n_class = len(unique(y))"
   ]
  },
  {
   "cell_type": "code",
   "execution_count": 441,
   "metadata": {
    "id": "sxEI4IQViAQM"
   },
   "outputs": [],
   "source": [
    "model = Sequential()\n",
    "model.add(Dense(20, input_dim=n_features, activation='relu', kernel_initializer='he_normal'))\n",
    "model.add(Dense(10, activation='relu', kernel_initializer='he_normal'))\n",
    "model.add(Dense(n_class, activation='softmax'))"
   ]
  },
  {
   "cell_type": "code",
   "execution_count": 442,
   "metadata": {
    "id": "2vqsnyzqiCZJ"
   },
   "outputs": [],
   "source": [
    "model.compile(loss='sparse_categorical_crossentropy', optimizer='adam',metrics=['accuracy'])"
   ]
  },
  {
   "cell_type": "code",
   "execution_count": 443,
   "metadata": {
    "colab": {
     "base_uri": "https://localhost:8080/"
    },
    "id": "SDcHaoCuiEOx",
    "outputId": "d1b73004-6d81-4d17-96bc-7266c8037272"
   },
   "outputs": [
    {
     "name": "stdout",
     "output_type": "stream",
     "text": [
      "Epoch 1/150\n",
      "18/18 [==============================] - 1s 12ms/step - loss: 95.2726 - accuracy: 0.3081 - val_loss: 34.9993 - val_accuracy: 0.3256\n",
      "Epoch 2/150\n",
      "18/18 [==============================] - 0s 4ms/step - loss: 8.4162 - accuracy: 0.6977 - val_loss: 10.6956 - val_accuracy: 0.8140\n",
      "Epoch 3/150\n",
      "18/18 [==============================] - 0s 4ms/step - loss: 5.2328 - accuracy: 0.5465 - val_loss: 2.6918 - val_accuracy: 0.6860\n",
      "Epoch 4/150\n",
      "18/18 [==============================] - 0s 4ms/step - loss: 3.0807 - accuracy: 0.7326 - val_loss: 4.8387 - val_accuracy: 0.4767\n",
      "Epoch 5/150\n",
      "18/18 [==============================] - 0s 4ms/step - loss: 3.4407 - accuracy: 0.6977 - val_loss: 2.1876 - val_accuracy: 0.6628\n",
      "Epoch 6/150\n",
      "18/18 [==============================] - 0s 4ms/step - loss: 5.0526 - accuracy: 0.7791 - val_loss: 2.0579 - val_accuracy: 0.6628\n",
      "Epoch 7/150\n",
      "18/18 [==============================] - 0s 4ms/step - loss: 2.3583 - accuracy: 0.6860 - val_loss: 3.4057 - val_accuracy: 0.7674\n",
      "Epoch 8/150\n",
      "18/18 [==============================] - 0s 4ms/step - loss: 2.1832 - accuracy: 0.7267 - val_loss: 4.2784 - val_accuracy: 0.8140\n",
      "Epoch 9/150\n",
      "18/18 [==============================] - 0s 4ms/step - loss: 2.6791 - accuracy: 0.7326 - val_loss: 3.7346 - val_accuracy: 0.8023\n",
      "Epoch 10/150\n",
      "18/18 [==============================] - 0s 4ms/step - loss: 1.9232 - accuracy: 0.7384 - val_loss: 2.3810 - val_accuracy: 0.7674\n",
      "Epoch 11/150\n",
      "18/18 [==============================] - 0s 4ms/step - loss: 4.1335 - accuracy: 0.6337 - val_loss: 2.1427 - val_accuracy: 0.6744\n",
      "Epoch 12/150\n",
      "18/18 [==============================] - 0s 4ms/step - loss: 4.0161 - accuracy: 0.8256 - val_loss: 3.7633 - val_accuracy: 0.5930\n",
      "Epoch 13/150\n",
      "18/18 [==============================] - 0s 4ms/step - loss: 1.6789 - accuracy: 0.7267 - val_loss: 1.4235 - val_accuracy: 0.7791\n",
      "Epoch 14/150\n",
      "18/18 [==============================] - 0s 4ms/step - loss: 1.2858 - accuracy: 0.7849 - val_loss: 1.4949 - val_accuracy: 0.7907\n",
      "Epoch 15/150\n",
      "18/18 [==============================] - 0s 4ms/step - loss: 1.1637 - accuracy: 0.7849 - val_loss: 1.2645 - val_accuracy: 0.7791\n",
      "Epoch 16/150\n",
      "18/18 [==============================] - 0s 4ms/step - loss: 1.1347 - accuracy: 0.7965 - val_loss: 2.0978 - val_accuracy: 0.8488\n",
      "Epoch 17/150\n",
      "18/18 [==============================] - 0s 4ms/step - loss: 1.7510 - accuracy: 0.7674 - val_loss: 2.5301 - val_accuracy: 0.8372\n",
      "Epoch 18/150\n",
      "18/18 [==============================] - 0s 4ms/step - loss: 2.0521 - accuracy: 0.7209 - val_loss: 5.9767 - val_accuracy: 0.8372\n",
      "Epoch 19/150\n",
      "18/18 [==============================] - 0s 4ms/step - loss: 4.2712 - accuracy: 0.7267 - val_loss: 4.1991 - val_accuracy: 0.6047\n",
      "Epoch 20/150\n",
      "18/18 [==============================] - 0s 4ms/step - loss: 1.4821 - accuracy: 0.8023 - val_loss: 1.2410 - val_accuracy: 0.7442\n",
      "Epoch 21/150\n",
      "18/18 [==============================] - 0s 4ms/step - loss: 2.2187 - accuracy: 0.7907 - val_loss: 1.0640 - val_accuracy: 0.8023\n",
      "Epoch 22/150\n",
      "18/18 [==============================] - 0s 4ms/step - loss: 2.2896 - accuracy: 0.8198 - val_loss: 1.4021 - val_accuracy: 0.8023\n",
      "Epoch 23/150\n",
      "18/18 [==============================] - 0s 4ms/step - loss: 5.7061 - accuracy: 0.8140 - val_loss: 2.1768 - val_accuracy: 0.8023\n",
      "Epoch 24/150\n",
      "18/18 [==============================] - 0s 4ms/step - loss: 2.0090 - accuracy: 0.6744 - val_loss: 3.1741 - val_accuracy: 0.8023\n",
      "Epoch 25/150\n",
      "18/18 [==============================] - 0s 4ms/step - loss: 1.4138 - accuracy: 0.7674 - val_loss: 1.2997 - val_accuracy: 0.7326\n",
      "Epoch 26/150\n",
      "18/18 [==============================] - 0s 4ms/step - loss: 0.9765 - accuracy: 0.7907 - val_loss: 1.8661 - val_accuracy: 0.7442\n",
      "Epoch 27/150\n",
      "18/18 [==============================] - 0s 4ms/step - loss: 1.4649 - accuracy: 0.7907 - val_loss: 1.3930 - val_accuracy: 0.8372\n",
      "Epoch 28/150\n",
      "18/18 [==============================] - 0s 4ms/step - loss: 0.8795 - accuracy: 0.8314 - val_loss: 1.8626 - val_accuracy: 0.8372\n",
      "Epoch 29/150\n",
      "18/18 [==============================] - 0s 4ms/step - loss: 1.4165 - accuracy: 0.7965 - val_loss: 1.5195 - val_accuracy: 0.8372\n",
      "Epoch 30/150\n",
      "18/18 [==============================] - 0s 4ms/step - loss: 1.5554 - accuracy: 0.8314 - val_loss: 1.5702 - val_accuracy: 0.8372\n",
      "Epoch 31/150\n",
      "18/18 [==============================] - 0s 4ms/step - loss: 0.8948 - accuracy: 0.8256 - val_loss: 1.1540 - val_accuracy: 0.8140\n",
      "Epoch 32/150\n",
      "18/18 [==============================] - 0s 4ms/step - loss: 0.9117 - accuracy: 0.8314 - val_loss: 0.9517 - val_accuracy: 0.8372\n",
      "Epoch 33/150\n",
      "18/18 [==============================] - 0s 4ms/step - loss: 0.6309 - accuracy: 0.8430 - val_loss: 0.9148 - val_accuracy: 0.8488\n",
      "Epoch 34/150\n",
      "18/18 [==============================] - 0s 4ms/step - loss: 0.8383 - accuracy: 0.8256 - val_loss: 1.7956 - val_accuracy: 0.8488\n",
      "Epoch 35/150\n",
      "18/18 [==============================] - 0s 4ms/step - loss: 0.8375 - accuracy: 0.8430 - val_loss: 1.0254 - val_accuracy: 0.8721\n",
      "Epoch 36/150\n",
      "18/18 [==============================] - 0s 4ms/step - loss: 0.9616 - accuracy: 0.8663 - val_loss: 0.8117 - val_accuracy: 0.8488\n",
      "Epoch 37/150\n",
      "18/18 [==============================] - 0s 4ms/step - loss: 1.4023 - accuracy: 0.8023 - val_loss: 1.5078 - val_accuracy: 0.8256\n",
      "Epoch 38/150\n",
      "18/18 [==============================] - 0s 4ms/step - loss: 0.9796 - accuracy: 0.7791 - val_loss: 1.4891 - val_accuracy: 0.8488\n",
      "Epoch 39/150\n",
      "18/18 [==============================] - 0s 4ms/step - loss: 0.6332 - accuracy: 0.8547 - val_loss: 0.8146 - val_accuracy: 0.8721\n",
      "Epoch 40/150\n",
      "18/18 [==============================] - 0s 4ms/step - loss: 0.5259 - accuracy: 0.8721 - val_loss: 1.4337 - val_accuracy: 0.8256\n",
      "Epoch 41/150\n",
      "18/18 [==============================] - 0s 4ms/step - loss: 0.5837 - accuracy: 0.8779 - val_loss: 1.7600 - val_accuracy: 0.8023\n",
      "Epoch 42/150\n",
      "18/18 [==============================] - 0s 4ms/step - loss: 0.5992 - accuracy: 0.8721 - val_loss: 0.9082 - val_accuracy: 0.8605\n",
      "Epoch 43/150\n",
      "18/18 [==============================] - 0s 4ms/step - loss: 0.5557 - accuracy: 0.8605 - val_loss: 1.2029 - val_accuracy: 0.8488\n",
      "Epoch 44/150\n",
      "18/18 [==============================] - 0s 4ms/step - loss: 4.2596 - accuracy: 0.8198 - val_loss: 3.1505 - val_accuracy: 0.6628\n",
      "Epoch 45/150\n",
      "18/18 [==============================] - 0s 4ms/step - loss: 1.4237 - accuracy: 0.8314 - val_loss: 3.1579 - val_accuracy: 0.6512\n",
      "Epoch 46/150\n",
      "18/18 [==============================] - 0s 4ms/step - loss: 1.6446 - accuracy: 0.8198 - val_loss: 1.0516 - val_accuracy: 0.8256\n",
      "Epoch 47/150\n",
      "18/18 [==============================] - 0s 4ms/step - loss: 0.6515 - accuracy: 0.8314 - val_loss: 0.6737 - val_accuracy: 0.8605\n",
      "Epoch 48/150\n",
      "18/18 [==============================] - 0s 4ms/step - loss: 0.4494 - accuracy: 0.8605 - val_loss: 1.1250 - val_accuracy: 0.8488\n",
      "Epoch 49/150\n",
      "18/18 [==============================] - 0s 4ms/step - loss: 0.9411 - accuracy: 0.8663 - val_loss: 1.4085 - val_accuracy: 0.8372\n",
      "Epoch 50/150\n",
      "18/18 [==============================] - 0s 4ms/step - loss: 0.7243 - accuracy: 0.8256 - val_loss: 2.1207 - val_accuracy: 0.8256\n",
      "Epoch 51/150\n",
      "18/18 [==============================] - 0s 4ms/step - loss: 1.5782 - accuracy: 0.8081 - val_loss: 1.1148 - val_accuracy: 0.8488\n",
      "Epoch 52/150\n",
      "18/18 [==============================] - 0s 4ms/step - loss: 1.0188 - accuracy: 0.8430 - val_loss: 2.5889 - val_accuracy: 0.7558\n",
      "Epoch 53/150\n",
      "18/18 [==============================] - 0s 4ms/step - loss: 0.7788 - accuracy: 0.8547 - val_loss: 0.8867 - val_accuracy: 0.8721\n",
      "Epoch 54/150\n",
      "18/18 [==============================] - 0s 4ms/step - loss: 0.4797 - accuracy: 0.9070 - val_loss: 0.7976 - val_accuracy: 0.8837\n",
      "Epoch 55/150\n",
      "18/18 [==============================] - 0s 4ms/step - loss: 1.9455 - accuracy: 0.8895 - val_loss: 1.3759 - val_accuracy: 0.8256\n",
      "Epoch 56/150\n",
      "18/18 [==============================] - 0s 4ms/step - loss: 0.8638 - accuracy: 0.8779 - val_loss: 0.5736 - val_accuracy: 0.8837\n",
      "Epoch 57/150\n",
      "18/18 [==============================] - 0s 4ms/step - loss: 0.3002 - accuracy: 0.8837 - val_loss: 0.6218 - val_accuracy: 0.8488\n",
      "Epoch 58/150\n",
      "18/18 [==============================] - 0s 4ms/step - loss: 0.4056 - accuracy: 0.9128 - val_loss: 0.5653 - val_accuracy: 0.8837\n"
     ]
    },
    {
     "name": "stdout",
     "output_type": "stream",
     "text": [
      "Epoch 59/150\n",
      "18/18 [==============================] - 0s 4ms/step - loss: 0.5511 - accuracy: 0.8895 - val_loss: 0.6040 - val_accuracy: 0.8837\n",
      "Epoch 60/150\n",
      "18/18 [==============================] - 0s 4ms/step - loss: 0.3344 - accuracy: 0.8837 - val_loss: 0.9769 - val_accuracy: 0.8721\n",
      "Epoch 61/150\n",
      "18/18 [==============================] - 0s 4ms/step - loss: 0.3489 - accuracy: 0.8895 - val_loss: 0.8287 - val_accuracy: 0.8837\n",
      "Epoch 62/150\n",
      "18/18 [==============================] - 0s 4ms/step - loss: 0.4450 - accuracy: 0.8953 - val_loss: 0.5779 - val_accuracy: 0.8488\n",
      "Epoch 63/150\n",
      "18/18 [==============================] - 0s 4ms/step - loss: 0.4494 - accuracy: 0.9302 - val_loss: 0.5819 - val_accuracy: 0.8953\n",
      "Epoch 64/150\n",
      "18/18 [==============================] - 0s 4ms/step - loss: 0.4122 - accuracy: 0.8837 - val_loss: 0.6959 - val_accuracy: 0.8488\n",
      "Epoch 65/150\n",
      "18/18 [==============================] - 0s 4ms/step - loss: 0.2725 - accuracy: 0.8953 - val_loss: 2.2267 - val_accuracy: 0.8140\n",
      "Epoch 66/150\n",
      "18/18 [==============================] - 0s 4ms/step - loss: 0.4918 - accuracy: 0.8779 - val_loss: 0.6287 - val_accuracy: 0.8953\n",
      "Epoch 67/150\n",
      "18/18 [==============================] - 0s 4ms/step - loss: 0.4547 - accuracy: 0.8895 - val_loss: 0.5294 - val_accuracy: 0.8837\n",
      "Epoch 68/150\n",
      "18/18 [==============================] - 0s 4ms/step - loss: 0.4251 - accuracy: 0.9070 - val_loss: 3.4356 - val_accuracy: 0.7326\n",
      "Epoch 69/150\n",
      "18/18 [==============================] - 0s 4ms/step - loss: 0.7149 - accuracy: 0.8953 - val_loss: 2.3767 - val_accuracy: 0.8488\n",
      "Epoch 70/150\n",
      "18/18 [==============================] - 0s 4ms/step - loss: 0.6340 - accuracy: 0.8779 - val_loss: 1.2284 - val_accuracy: 0.8605\n",
      "Epoch 71/150\n",
      "18/18 [==============================] - 0s 4ms/step - loss: 0.4234 - accuracy: 0.8663 - val_loss: 0.5067 - val_accuracy: 0.8721\n",
      "Epoch 72/150\n",
      "18/18 [==============================] - 0s 4ms/step - loss: 0.4374 - accuracy: 0.8779 - val_loss: 0.9070 - val_accuracy: 0.8721\n",
      "Epoch 73/150\n",
      "18/18 [==============================] - 0s 4ms/step - loss: 0.3102 - accuracy: 0.9186 - val_loss: 0.8315 - val_accuracy: 0.8605\n",
      "Epoch 74/150\n",
      "18/18 [==============================] - 0s 4ms/step - loss: 0.8616 - accuracy: 0.8721 - val_loss: 0.5086 - val_accuracy: 0.8953\n",
      "Epoch 75/150\n",
      "18/18 [==============================] - 0s 4ms/step - loss: 1.5213 - accuracy: 0.8372 - val_loss: 3.1868 - val_accuracy: 0.8605\n",
      "Epoch 76/150\n",
      "18/18 [==============================] - 0s 4ms/step - loss: 1.2560 - accuracy: 0.8372 - val_loss: 0.6062 - val_accuracy: 0.8721\n",
      "Epoch 77/150\n",
      "18/18 [==============================] - 0s 4ms/step - loss: 0.8399 - accuracy: 0.8837 - val_loss: 0.7283 - val_accuracy: 0.8605\n",
      "Epoch 78/150\n",
      "18/18 [==============================] - 0s 4ms/step - loss: 2.0578 - accuracy: 0.8605 - val_loss: 2.6657 - val_accuracy: 0.8605\n",
      "Epoch 79/150\n",
      "18/18 [==============================] - 0s 4ms/step - loss: 0.6194 - accuracy: 0.8895 - val_loss: 0.6482 - val_accuracy: 0.9186\n",
      "Epoch 80/150\n",
      "18/18 [==============================] - 0s 4ms/step - loss: 0.4597 - accuracy: 0.9128 - val_loss: 0.8704 - val_accuracy: 0.8605\n",
      "Epoch 81/150\n",
      "18/18 [==============================] - 0s 4ms/step - loss: 0.4655 - accuracy: 0.9244 - val_loss: 0.4842 - val_accuracy: 0.8837\n",
      "Epoch 82/150\n",
      "18/18 [==============================] - 0s 4ms/step - loss: 0.2146 - accuracy: 0.9360 - val_loss: 0.5094 - val_accuracy: 0.8721\n",
      "Epoch 83/150\n",
      "18/18 [==============================] - 0s 4ms/step - loss: 0.5025 - accuracy: 0.9244 - val_loss: 3.1755 - val_accuracy: 0.7791\n",
      "Epoch 84/150\n",
      "18/18 [==============================] - 0s 4ms/step - loss: 0.5396 - accuracy: 0.9128 - val_loss: 1.1674 - val_accuracy: 0.8953\n",
      "Epoch 85/150\n",
      "18/18 [==============================] - 0s 4ms/step - loss: 0.3491 - accuracy: 0.9360 - val_loss: 0.9775 - val_accuracy: 0.8721\n",
      "Epoch 86/150\n",
      "18/18 [==============================] - 0s 4ms/step - loss: 0.7546 - accuracy: 0.9070 - val_loss: 1.3136 - val_accuracy: 0.8605\n",
      "Epoch 87/150\n",
      "18/18 [==============================] - 0s 4ms/step - loss: 0.7489 - accuracy: 0.8779 - val_loss: 0.7559 - val_accuracy: 0.8721\n",
      "Epoch 88/150\n",
      "18/18 [==============================] - 0s 4ms/step - loss: 1.2423 - accuracy: 0.8547 - val_loss: 1.1706 - val_accuracy: 0.8721\n",
      "Epoch 89/150\n",
      "18/18 [==============================] - 0s 4ms/step - loss: 1.4955 - accuracy: 0.8372 - val_loss: 1.0096 - val_accuracy: 0.8372\n",
      "Epoch 90/150\n",
      "18/18 [==============================] - 0s 4ms/step - loss: 0.3186 - accuracy: 0.9012 - val_loss: 0.4481 - val_accuracy: 0.8953\n",
      "Epoch 91/150\n",
      "18/18 [==============================] - 0s 4ms/step - loss: 0.7042 - accuracy: 0.9012 - val_loss: 1.7581 - val_accuracy: 0.8488\n",
      "Epoch 92/150\n",
      "18/18 [==============================] - 0s 4ms/step - loss: 0.5165 - accuracy: 0.9244 - val_loss: 2.2487 - val_accuracy: 0.8605\n",
      "Epoch 93/150\n",
      "18/18 [==============================] - 0s 4ms/step - loss: 1.0863 - accuracy: 0.8663 - val_loss: 2.9158 - val_accuracy: 0.8256\n",
      "Epoch 94/150\n",
      "18/18 [==============================] - 0s 4ms/step - loss: 0.8924 - accuracy: 0.8547 - val_loss: 0.5429 - val_accuracy: 0.9186\n",
      "Epoch 95/150\n",
      "18/18 [==============================] - 0s 4ms/step - loss: 0.3005 - accuracy: 0.9360 - val_loss: 0.9295 - val_accuracy: 0.9070\n",
      "Epoch 96/150\n",
      "18/18 [==============================] - 0s 4ms/step - loss: 0.2633 - accuracy: 0.9419 - val_loss: 0.5606 - val_accuracy: 0.9186\n",
      "Epoch 97/150\n",
      "18/18 [==============================] - 0s 4ms/step - loss: 0.2520 - accuracy: 0.9419 - val_loss: 0.4404 - val_accuracy: 0.8953\n",
      "Epoch 98/150\n",
      "18/18 [==============================] - 0s 4ms/step - loss: 0.2651 - accuracy: 0.9302 - val_loss: 0.4674 - val_accuracy: 0.8837\n",
      "Epoch 99/150\n",
      "18/18 [==============================] - 0s 4ms/step - loss: 0.3135 - accuracy: 0.9186 - val_loss: 0.4391 - val_accuracy: 0.8837\n",
      "Epoch 100/150\n",
      "18/18 [==============================] - 0s 4ms/step - loss: 0.2613 - accuracy: 0.9186 - val_loss: 1.7821 - val_accuracy: 0.8605\n",
      "Epoch 101/150\n",
      "18/18 [==============================] - 0s 4ms/step - loss: 0.3280 - accuracy: 0.9302 - val_loss: 0.7493 - val_accuracy: 0.9070\n",
      "Epoch 102/150\n",
      "18/18 [==============================] - 0s 4ms/step - loss: 0.2822 - accuracy: 0.9360 - val_loss: 1.1305 - val_accuracy: 0.8953\n",
      "Epoch 103/150\n",
      "18/18 [==============================] - 0s 4ms/step - loss: 0.5304 - accuracy: 0.9244 - val_loss: 0.4389 - val_accuracy: 0.9186\n",
      "Epoch 104/150\n",
      "18/18 [==============================] - 0s 4ms/step - loss: 0.2505 - accuracy: 0.9302 - val_loss: 0.9208 - val_accuracy: 0.8953\n",
      "Epoch 105/150\n",
      "18/18 [==============================] - 0s 4ms/step - loss: 0.4303 - accuracy: 0.9244 - val_loss: 0.9906 - val_accuracy: 0.8953\n",
      "Epoch 106/150\n",
      "18/18 [==============================] - 0s 4ms/step - loss: 0.4361 - accuracy: 0.9244 - val_loss: 0.6907 - val_accuracy: 0.9186\n",
      "Epoch 107/150\n",
      "18/18 [==============================] - 0s 4ms/step - loss: 0.2332 - accuracy: 0.9593 - val_loss: 0.5232 - val_accuracy: 0.9302\n",
      "Epoch 108/150\n",
      "18/18 [==============================] - 0s 4ms/step - loss: 0.1164 - accuracy: 0.9651 - val_loss: 0.7399 - val_accuracy: 0.9186\n",
      "Epoch 109/150\n",
      "18/18 [==============================] - 0s 4ms/step - loss: 0.3226 - accuracy: 0.9360 - val_loss: 0.4282 - val_accuracy: 0.9186\n",
      "Epoch 110/150\n",
      "18/18 [==============================] - 0s 4ms/step - loss: 0.2504 - accuracy: 0.9477 - val_loss: 1.0053 - val_accuracy: 0.8953\n",
      "Epoch 111/150\n",
      "18/18 [==============================] - 0s 4ms/step - loss: 0.7420 - accuracy: 0.9186 - val_loss: 2.4091 - val_accuracy: 0.8488\n",
      "Epoch 112/150\n",
      "18/18 [==============================] - 0s 4ms/step - loss: 0.2578 - accuracy: 0.9244 - val_loss: 0.5933 - val_accuracy: 0.8837\n",
      "Epoch 113/150\n",
      "18/18 [==============================] - 0s 4ms/step - loss: 0.3458 - accuracy: 0.9419 - val_loss: 0.4468 - val_accuracy: 0.9302\n",
      "Epoch 114/150\n",
      "18/18 [==============================] - 0s 4ms/step - loss: 0.2650 - accuracy: 0.9477 - val_loss: 0.5334 - val_accuracy: 0.8837\n",
      "Epoch 115/150\n",
      "18/18 [==============================] - 0s 4ms/step - loss: 0.3832 - accuracy: 0.9360 - val_loss: 2.0858 - val_accuracy: 0.8605\n",
      "Epoch 116/150\n"
     ]
    },
    {
     "name": "stdout",
     "output_type": "stream",
     "text": [
      "18/18 [==============================] - 0s 4ms/step - loss: 0.3647 - accuracy: 0.9419 - val_loss: 1.0386 - val_accuracy: 0.8953\n",
      "Epoch 117/150\n",
      "18/18 [==============================] - 0s 3ms/step - loss: 0.6320 - accuracy: 0.8953 - val_loss: 0.5864 - val_accuracy: 0.9186\n",
      "Epoch 118/150\n",
      "18/18 [==============================] - 0s 4ms/step - loss: 0.2406 - accuracy: 0.9535 - val_loss: 0.4476 - val_accuracy: 0.9419\n",
      "Epoch 119/150\n",
      "18/18 [==============================] - 0s 4ms/step - loss: 0.5450 - accuracy: 0.9012 - val_loss: 1.6737 - val_accuracy: 0.8721\n",
      "Epoch 120/150\n",
      "18/18 [==============================] - 0s 4ms/step - loss: 0.5093 - accuracy: 0.9477 - val_loss: 1.6575 - val_accuracy: 0.8721\n",
      "Epoch 121/150\n",
      "18/18 [==============================] - 0s 4ms/step - loss: 0.5481 - accuracy: 0.8953 - val_loss: 1.0821 - val_accuracy: 0.8953\n",
      "Epoch 122/150\n",
      "18/18 [==============================] - 0s 4ms/step - loss: 0.8066 - accuracy: 0.9186 - val_loss: 0.4289 - val_accuracy: 0.9419\n",
      "Epoch 123/150\n",
      "18/18 [==============================] - 0s 4ms/step - loss: 0.5696 - accuracy: 0.9302 - val_loss: 0.3715 - val_accuracy: 0.9070\n",
      "Epoch 124/150\n",
      "18/18 [==============================] - 0s 4ms/step - loss: 0.1337 - accuracy: 0.9477 - val_loss: 0.3793 - val_accuracy: 0.9302\n",
      "Epoch 125/150\n",
      "18/18 [==============================] - 0s 4ms/step - loss: 0.1095 - accuracy: 0.9651 - val_loss: 1.7386 - val_accuracy: 0.8721\n",
      "Epoch 126/150\n",
      "18/18 [==============================] - 0s 4ms/step - loss: 0.3031 - accuracy: 0.9244 - val_loss: 0.5376 - val_accuracy: 0.9302\n",
      "Epoch 127/150\n",
      "18/18 [==============================] - 0s 4ms/step - loss: 0.1638 - accuracy: 0.9593 - val_loss: 0.6149 - val_accuracy: 0.9186\n",
      "Epoch 128/150\n",
      "18/18 [==============================] - 0s 4ms/step - loss: 0.2973 - accuracy: 0.9477 - val_loss: 1.0966 - val_accuracy: 0.8953\n",
      "Epoch 129/150\n",
      "18/18 [==============================] - 0s 4ms/step - loss: 0.5222 - accuracy: 0.9477 - val_loss: 0.7197 - val_accuracy: 0.9070\n",
      "Epoch 130/150\n",
      "18/18 [==============================] - 0s 4ms/step - loss: 0.4849 - accuracy: 0.9477 - val_loss: 1.0294 - val_accuracy: 0.8953\n",
      "Epoch 131/150\n",
      "18/18 [==============================] - 0s 4ms/step - loss: 0.3152 - accuracy: 0.9477 - val_loss: 1.7886 - val_accuracy: 0.8605\n",
      "Epoch 132/150\n",
      "18/18 [==============================] - 0s 3ms/step - loss: 1.0735 - accuracy: 0.8953 - val_loss: 3.7372 - val_accuracy: 0.7907\n",
      "Epoch 133/150\n",
      "18/18 [==============================] - 0s 4ms/step - loss: 0.7700 - accuracy: 0.9012 - val_loss: 3.7429 - val_accuracy: 0.8023\n",
      "Epoch 134/150\n",
      "18/18 [==============================] - 0s 4ms/step - loss: 0.9531 - accuracy: 0.8837 - val_loss: 1.1099 - val_accuracy: 0.8953\n",
      "Epoch 135/150\n",
      "18/18 [==============================] - 0s 4ms/step - loss: 3.0013 - accuracy: 0.8198 - val_loss: 0.5422 - val_accuracy: 0.8953\n",
      "Epoch 136/150\n",
      "18/18 [==============================] - 0s 4ms/step - loss: 0.3759 - accuracy: 0.9360 - val_loss: 0.5211 - val_accuracy: 0.8953\n",
      "Epoch 137/150\n",
      "18/18 [==============================] - 0s 4ms/step - loss: 0.4288 - accuracy: 0.9477 - val_loss: 0.3623 - val_accuracy: 0.9070\n",
      "Epoch 138/150\n",
      "18/18 [==============================] - 0s 4ms/step - loss: 0.5009 - accuracy: 0.9360 - val_loss: 0.4667 - val_accuracy: 0.9419\n",
      "Epoch 139/150\n",
      "18/18 [==============================] - 0s 4ms/step - loss: 0.4055 - accuracy: 0.9419 - val_loss: 0.6385 - val_accuracy: 0.8837\n",
      "Epoch 140/150\n",
      "18/18 [==============================] - 0s 4ms/step - loss: 0.3303 - accuracy: 0.9477 - val_loss: 0.8006 - val_accuracy: 0.9070\n",
      "Epoch 141/150\n",
      "18/18 [==============================] - 0s 4ms/step - loss: 2.5891 - accuracy: 0.7907 - val_loss: 0.4001 - val_accuracy: 0.9070\n",
      "Epoch 142/150\n",
      "18/18 [==============================] - 0s 4ms/step - loss: 0.2569 - accuracy: 0.9535 - val_loss: 3.3784 - val_accuracy: 0.7907\n",
      "Epoch 143/150\n",
      "18/18 [==============================] - 0s 4ms/step - loss: 0.6099 - accuracy: 0.8837 - val_loss: 0.5538 - val_accuracy: 0.9302\n",
      "Epoch 144/150\n",
      "18/18 [==============================] - 0s 4ms/step - loss: 0.2718 - accuracy: 0.9477 - val_loss: 0.8314 - val_accuracy: 0.9070\n",
      "Epoch 145/150\n",
      "18/18 [==============================] - 0s 4ms/step - loss: 0.3039 - accuracy: 0.9535 - val_loss: 0.3528 - val_accuracy: 0.9186\n",
      "Epoch 146/150\n",
      "18/18 [==============================] - 0s 4ms/step - loss: 1.6406 - accuracy: 0.8488 - val_loss: 1.5615 - val_accuracy: 0.8721\n",
      "Epoch 147/150\n",
      "18/18 [==============================] - 0s 4ms/step - loss: 0.7847 - accuracy: 0.9419 - val_loss: 1.5492 - val_accuracy: 0.8721\n",
      "Epoch 148/150\n",
      "18/18 [==============================] - 0s 4ms/step - loss: 0.3634 - accuracy: 0.9477 - val_loss: 0.3404 - val_accuracy: 0.9070\n",
      "Epoch 149/150\n",
      "18/18 [==============================] - 0s 4ms/step - loss: 0.1484 - accuracy: 0.9709 - val_loss: 0.8843 - val_accuracy: 0.8953\n",
      "Epoch 150/150\n",
      "18/18 [==============================] - 0s 4ms/step - loss: 0.2107 - accuracy: 0.9767 - val_loss: 0.9592 - val_accuracy: 0.8953\n"
     ]
    },
    {
     "data": {
      "text/plain": [
       "<keras.callbacks.History at 0x215dddb48b0>"
      ]
     },
     "execution_count": 443,
     "metadata": {},
     "output_type": "execute_result"
    }
   ],
   "source": [
    "model.fit(xtrain, ytrain, validation_split=0.33, epochs=150, batch_size=10)"
   ]
  },
  {
   "cell_type": "code",
   "execution_count": 444,
   "metadata": {
    "colab": {
     "base_uri": "https://localhost:8080/"
    },
    "id": "5GaxgTq-iTqT",
    "outputId": "4ecc314c-a7a3-4e2b-ee95-9aa2c7f7a4b9"
   },
   "outputs": [],
   "source": [
    "yhat = model.predict(xtest)"
   ]
  },
  {
   "cell_type": "code",
   "execution_count": 445,
   "metadata": {
    "colab": {
     "base_uri": "https://localhost:8080/"
    },
    "id": "xp0kWZWViysI",
    "outputId": "cbc152ad-bc67-42e8-a834-6428667bf89c"
   },
   "outputs": [
    {
     "name": "stdout",
     "output_type": "stream",
     "text": [
      "Accuracy: 0.966\n"
     ]
    }
   ],
   "source": [
    "yhat = argmax(yhat, axis=-1).astype('int')\n",
    "acc = accuracy_score(ytest, yhat)\n",
    "print('Accuracy: %.3f' % acc)"
   ]
  },
  {
   "cell_type": "markdown",
   "metadata": {
    "id": "5H5P0o9slwRr"
   },
   "source": [
    "# With Normalization"
   ]
  },
  {
   "cell_type": "code",
   "execution_count": 446,
   "metadata": {
    "id": "CihbUma1lueR"
   },
   "outputs": [],
   "source": [
    "from sklearn.preprocessing import MinMaxScaler\n",
    "from sklearn.preprocessing import StandardScaler\n",
    " \n",
    "\n",
    "import numpy as np\n",
    "scaler = MinMaxScaler()\n",
    "\n",
    "for i in list(X.columns):\n",
    "    column = X[i]\n",
    "    normalized_column = scaler.fit_transform(column.values.reshape(-1,1))\n",
    "    X[i] = normalized_column"
   ]
  },
  {
   "cell_type": "code",
   "execution_count": 447,
   "metadata": {
    "colab": {
     "base_uri": "https://localhost:8080/",
     "height": 334
    },
    "id": "ZvTRv3Skq-VL",
    "outputId": "4426d24a-c5a2-458c-ece7-09a9b22c638b"
   },
   "outputs": [
    {
     "data": {
      "text/html": [
       "<div>\n",
       "<style scoped>\n",
       "    .dataframe tbody tr th:only-of-type {\n",
       "        vertical-align: middle;\n",
       "    }\n",
       "\n",
       "    .dataframe tbody tr th {\n",
       "        vertical-align: top;\n",
       "    }\n",
       "\n",
       "    .dataframe thead th {\n",
       "        text-align: right;\n",
       "    }\n",
       "</style>\n",
       "<table border=\"1\" class=\"dataframe\">\n",
       "  <thead>\n",
       "    <tr style=\"text-align: right;\">\n",
       "      <th></th>\n",
       "      <th>Nodes</th>\n",
       "      <th>Edges</th>\n",
       "      <th>Highest-Indegree</th>\n",
       "      <th>Hightes-Outdegree</th>\n",
       "      <th>Highest-Degree</th>\n",
       "      <th>Average Degree</th>\n",
       "      <th>Network diameter</th>\n",
       "      <th>Graph Density</th>\n",
       "      <th>Average Authority Score</th>\n",
       "      <th>Average Hub Score</th>\n",
       "      <th>...</th>\n",
       "      <th>Median Total No of instructions</th>\n",
       "      <th>Median No of numeric constants</th>\n",
       "      <th>Std No of function calls</th>\n",
       "      <th>Std No of logical calls</th>\n",
       "      <th>Std No of Arithmetic instructions</th>\n",
       "      <th>Std No of transfer instructions</th>\n",
       "      <th>Std No of move instructions</th>\n",
       "      <th>Std No of compare instructions</th>\n",
       "      <th>Std Total No of instructions</th>\n",
       "      <th>Std No of numeric constants</th>\n",
       "    </tr>\n",
       "  </thead>\n",
       "  <tbody>\n",
       "    <tr>\n",
       "      <th>34</th>\n",
       "      <td>0.009087</td>\n",
       "      <td>0.007908</td>\n",
       "      <td>0.007421</td>\n",
       "      <td>0.000000</td>\n",
       "      <td>0.005576</td>\n",
       "      <td>0.138640</td>\n",
       "      <td>0.061558</td>\n",
       "      <td>0.163889</td>\n",
       "      <td>0.175693</td>\n",
       "      <td>0.175693</td>\n",
       "      <td>...</td>\n",
       "      <td>0.058824</td>\n",
       "      <td>0.000000</td>\n",
       "      <td>0.499628</td>\n",
       "      <td>0.063077</td>\n",
       "      <td>0.0</td>\n",
       "      <td>0.994376</td>\n",
       "      <td>0.076563</td>\n",
       "      <td>0.588586</td>\n",
       "      <td>0.028439</td>\n",
       "      <td>0.011004</td>\n",
       "    </tr>\n",
       "    <tr>\n",
       "      <th>228</th>\n",
       "      <td>0.030472</td>\n",
       "      <td>0.031263</td>\n",
       "      <td>0.009276</td>\n",
       "      <td>0.047619</td>\n",
       "      <td>0.007435</td>\n",
       "      <td>0.428376</td>\n",
       "      <td>0.028894</td>\n",
       "      <td>0.063295</td>\n",
       "      <td>0.058534</td>\n",
       "      <td>0.058534</td>\n",
       "      <td>...</td>\n",
       "      <td>0.000000</td>\n",
       "      <td>0.000000</td>\n",
       "      <td>0.744652</td>\n",
       "      <td>0.038306</td>\n",
       "      <td>0.0</td>\n",
       "      <td>0.946766</td>\n",
       "      <td>0.070685</td>\n",
       "      <td>0.629693</td>\n",
       "      <td>0.016535</td>\n",
       "      <td>0.003023</td>\n",
       "    </tr>\n",
       "    <tr>\n",
       "      <th>159</th>\n",
       "      <td>0.021072</td>\n",
       "      <td>0.023846</td>\n",
       "      <td>0.011132</td>\n",
       "      <td>0.000000</td>\n",
       "      <td>0.011152</td>\n",
       "      <td>0.619820</td>\n",
       "      <td>0.026382</td>\n",
       "      <td>0.098540</td>\n",
       "      <td>0.083233</td>\n",
       "      <td>0.083233</td>\n",
       "      <td>...</td>\n",
       "      <td>0.000000</td>\n",
       "      <td>0.333333</td>\n",
       "      <td>0.789240</td>\n",
       "      <td>0.042868</td>\n",
       "      <td>0.0</td>\n",
       "      <td>0.898624</td>\n",
       "      <td>0.102977</td>\n",
       "      <td>0.766475</td>\n",
       "      <td>0.016051</td>\n",
       "      <td>0.008254</td>\n",
       "    </tr>\n",
       "    <tr>\n",
       "      <th>236</th>\n",
       "      <td>0.031647</td>\n",
       "      <td>0.031080</td>\n",
       "      <td>0.007421</td>\n",
       "      <td>0.047619</td>\n",
       "      <td>0.005576</td>\n",
       "      <td>0.344481</td>\n",
       "      <td>0.045226</td>\n",
       "      <td>0.058465</td>\n",
       "      <td>0.056430</td>\n",
       "      <td>0.056430</td>\n",
       "      <td>...</td>\n",
       "      <td>0.000000</td>\n",
       "      <td>0.000000</td>\n",
       "      <td>0.855427</td>\n",
       "      <td>0.042153</td>\n",
       "      <td>0.0</td>\n",
       "      <td>0.860727</td>\n",
       "      <td>0.077214</td>\n",
       "      <td>0.595406</td>\n",
       "      <td>0.010531</td>\n",
       "      <td>0.002072</td>\n",
       "    </tr>\n",
       "    <tr>\n",
       "      <th>226</th>\n",
       "      <td>0.030315</td>\n",
       "      <td>0.030896</td>\n",
       "      <td>0.009276</td>\n",
       "      <td>0.047619</td>\n",
       "      <td>0.007435</td>\n",
       "      <td>0.415208</td>\n",
       "      <td>0.026382</td>\n",
       "      <td>0.063212</td>\n",
       "      <td>0.058835</td>\n",
       "      <td>0.058835</td>\n",
       "      <td>...</td>\n",
       "      <td>0.000000</td>\n",
       "      <td>0.000000</td>\n",
       "      <td>0.765166</td>\n",
       "      <td>0.055983</td>\n",
       "      <td>0.0</td>\n",
       "      <td>0.905288</td>\n",
       "      <td>0.061847</td>\n",
       "      <td>0.618708</td>\n",
       "      <td>0.010410</td>\n",
       "      <td>0.004408</td>\n",
       "    </tr>\n",
       "  </tbody>\n",
       "</table>\n",
       "<p>5 rows × 59 columns</p>\n",
       "</div>"
      ],
      "text/plain": [
       "        Nodes     Edges  Highest-Indegree  Hightes-Outdegree  Highest-Degree  \\\n",
       "34   0.009087  0.007908          0.007421           0.000000        0.005576   \n",
       "228  0.030472  0.031263          0.009276           0.047619        0.007435   \n",
       "159  0.021072  0.023846          0.011132           0.000000        0.011152   \n",
       "236  0.031647  0.031080          0.007421           0.047619        0.005576   \n",
       "226  0.030315  0.030896          0.009276           0.047619        0.007435   \n",
       "\n",
       "     Average Degree  Network diameter  Graph Density  Average Authority Score  \\\n",
       "34         0.138640          0.061558       0.163889                 0.175693   \n",
       "228        0.428376          0.028894       0.063295                 0.058534   \n",
       "159        0.619820          0.026382       0.098540                 0.083233   \n",
       "236        0.344481          0.045226       0.058465                 0.056430   \n",
       "226        0.415208          0.026382       0.063212                 0.058835   \n",
       "\n",
       "     Average Hub Score  ...  Median Total No of instructions  \\\n",
       "34            0.175693  ...                         0.058824   \n",
       "228           0.058534  ...                         0.000000   \n",
       "159           0.083233  ...                         0.000000   \n",
       "236           0.056430  ...                         0.000000   \n",
       "226           0.058835  ...                         0.000000   \n",
       "\n",
       "     Median No of numeric constants  Std No of function calls  \\\n",
       "34                         0.000000                  0.499628   \n",
       "228                        0.000000                  0.744652   \n",
       "159                        0.333333                  0.789240   \n",
       "236                        0.000000                  0.855427   \n",
       "226                        0.000000                  0.765166   \n",
       "\n",
       "     Std No of logical calls  Std No of Arithmetic instructions  \\\n",
       "34                  0.063077                                0.0   \n",
       "228                 0.038306                                0.0   \n",
       "159                 0.042868                                0.0   \n",
       "236                 0.042153                                0.0   \n",
       "226                 0.055983                                0.0   \n",
       "\n",
       "     Std No of transfer instructions  Std No of move instructions  \\\n",
       "34                          0.994376                     0.076563   \n",
       "228                         0.946766                     0.070685   \n",
       "159                         0.898624                     0.102977   \n",
       "236                         0.860727                     0.077214   \n",
       "226                         0.905288                     0.061847   \n",
       "\n",
       "     Std No of compare instructions  Std Total No of instructions  \\\n",
       "34                         0.588586                      0.028439   \n",
       "228                        0.629693                      0.016535   \n",
       "159                        0.766475                      0.016051   \n",
       "236                        0.595406                      0.010531   \n",
       "226                        0.618708                      0.010410   \n",
       "\n",
       "     Std No of numeric constants  \n",
       "34                      0.011004  \n",
       "228                     0.003023  \n",
       "159                     0.008254  \n",
       "236                     0.002072  \n",
       "226                     0.004408  \n",
       "\n",
       "[5 rows x 59 columns]"
      ]
     },
     "execution_count": 447,
     "metadata": {},
     "output_type": "execute_result"
    }
   ],
   "source": [
    "X.head()"
   ]
  },
  {
   "cell_type": "code",
   "execution_count": null,
   "metadata": {
    "id": "oxnV2C_nrEc9"
   },
   "outputs": [],
   "source": []
  },
  {
   "cell_type": "markdown",
   "metadata": {
    "id": "Sb6twK6CrZs-"
   },
   "source": [
    "Random Forest Classifier"
   ]
  },
  {
   "cell_type": "code",
   "execution_count": 448,
   "metadata": {
    "id": "XkPIAyzIrZs-"
   },
   "outputs": [],
   "source": [
    "X_train, X_test, y_train, y_test = train_test_split(X, y, test_size=0.25)\n",
    "\n",
    "# Initialize the Random Forest Classifier\n",
    "clf = RandomForestClassifier(n_estimators=100, random_state=42)  # You can adjust the number of estimators as needed\n",
    "\n",
    "# Train the model\n",
    "clf.fit(X_train, y_train)\n",
    "\n",
    "# Predict on the testing set\n",
    "y_pred = clf.predict(X_test)"
   ]
  },
  {
   "cell_type": "code",
   "execution_count": 449,
   "metadata": {
    "colab": {
     "base_uri": "https://localhost:8080/"
    },
    "id": "IXI6ZrIjrZs-",
    "outputId": "c1075786-ea08-4591-dcd4-bc26d7ef7b9c"
   },
   "outputs": [
    {
     "name": "stdout",
     "output_type": "stream",
     "text": [
      "Accuracy: 1.0\n",
      "Feature Importances:\n",
      "1. Feature 'Mean Total No of instructions': 0.12400565890047216\n",
      "2. Feature 'Mean No of logical calls': 0.07788730342684923\n",
      "3. Feature 'Std Total No of instructions': 0.07635763560382325\n",
      "4. Feature 'Mean No of numeric constants': 0.06749516733072142\n",
      "5. Feature 'Average Degree': 0.06284007486971098\n",
      "6. Feature 'Max Total No of instructions': 0.05935896325640759\n",
      "7. Feature 'Average betweenness centrality': 0.05753130274307039\n",
      "8. Feature 'Std No of numeric constants': 0.04544391948708314\n",
      "9. Feature 'Max No of numeric constants': 0.03614091191186254\n",
      "10. Feature 'Average Eigenvector Centrality': 0.03498300609799832\n",
      "11. Feature 'Average Closeness Centrality': 0.02971004900304429\n",
      "12. Feature 'Average Harmonic Closeness Centrality': 0.029431276099319472\n",
      "13. Feature 'Std No of transfer instructions': 0.022828216047333826\n",
      "14. Feature 'Std No of logical calls': 0.02187332197561106\n",
      "15. Feature 'Median No of numeric constants': 0.01924025957737304\n",
      "16. Feature 'Max No of logical calls': 0.01906150363356673\n",
      "17. Feature 'Edges': 0.01712126332121144\n",
      "18. Feature 'Average Clustering Coefficient': 0.017056032658316792\n",
      "19. Feature 'Std No of function calls': 0.01702809758180822\n",
      "20. Feature 'Std No of move instructions': 0.016669124521448028\n",
      "21. Feature 'Mean No of compare instructions': 0.015011508485675952\n",
      "22. Feature 'Mean No of transfer instructions': 0.014512171236013954\n",
      "23. Feature 'Mean No of move instructions': 0.014127415633522322\n",
      "24. Feature 'Median Total No of instructions': 0.012871875214730386\n",
      "25. Feature 'Max No of move instructions': 0.012601915526693598\n",
      "26. Feature 'Mean No of function calls': 0.01246857699454992\n",
      "27. Feature 'Std No of compare instructions': 0.011785168324267521\n",
      "28. Feature 'Median No of transfer instructions': 0.007908145902805476\n",
      "29. Feature 'Average PageRank': 0.006535535332745567\n",
      "30. Feature 'Highest-Indegree': 0.0062724661450196065\n",
      "31. Feature 'Assortativity': 0.005156202528806779\n",
      "32. Feature 'Average Authority Score': 0.005116836360329493\n",
      "33. Feature 'Highest-Degree': 0.004702517669687328\n",
      "34. Feature 'Average Path Length': 0.003669463565512086\n",
      "35. Feature 'Modularity score': 0.003272620422036785\n",
      "36. Feature 'Network diameter': 0.0031564467362092917\n",
      "37. Feature 'Nodes': 0.002806928570135614\n",
      "38. Feature 'Average Hub Score': 0.0022359891916792062\n",
      "39. Feature 'Graph Density': 0.0019163178839288987\n",
      "40. Feature 'Median No of function calls': 0.000653170411816442\n",
      "41. Feature 'Median No of move instructions': 0.000601342974178972\n",
      "42. Feature 'Hightes-Outdegree': 0.0003731267717678028\n",
      "43. Feature 'Max No of compare instructions': 0.00018117007085506666\n",
      "44. Feature 'Max No of Arithmetic instructions': 0.0\n",
      "45. Feature 'Std No of Arithmetic instructions': 0.0\n",
      "46. Feature 'Median No of compare instructions': 0.0\n",
      "47. Feature 'Median No of Arithmetic instructions': 0.0\n",
      "48. Feature 'Median No of logical calls': 0.0\n",
      "49. Feature 'Mean No of Arithmetic instructions': 0.0\n",
      "50. Feature 'Max No of transfer instructions': 0.0\n",
      "51. Feature 'Min No of numeric constants': 0.0\n",
      "52. Feature 'Min Total No of instructions': 0.0\n",
      "53. Feature 'Min No of compare instructions': 0.0\n",
      "54. Feature 'Min No of move instructions': 0.0\n",
      "55. Feature 'Min No of transfer instructions': 0.0\n",
      "56. Feature 'Min No of logical calls': 0.0\n",
      "57. Feature 'Min No of function calls': 0.0\n",
      "58. Feature 'Max No of function calls': 0.0\n",
      "59. Feature 'Min No of Arithmetic instructions': 0.0\n"
     ]
    }
   ],
   "source": [
    "accuracy = accuracy_score(y_test, y_pred)\n",
    "print(\"Accuracy:\", accuracy)\n",
    "\n",
    "# Get feature importances\n",
    "importances = clf.feature_importances_\n",
    "\n",
    "# Sort feature importances in descending order\n",
    "sorted_idx = np.argsort(importances)[::-1]\n",
    "\n",
    "# Print feature importances\n",
    "print(\"Feature Importances:\")\n",
    "for i in range(X.shape[1]):\n",
    "    print(f\"{i+1}. Feature '{X.columns[sorted_idx[i]]}': {importances[sorted_idx[i]]}\")\n"
   ]
  },
  {
   "cell_type": "code",
   "execution_count": 450,
   "metadata": {
    "colab": {
     "base_uri": "https://localhost:8080/",
     "height": 732
    },
    "id": "VQZ1ovYXrZs_",
    "outputId": "b96314c5-5565-4b11-b413-366d10248daf"
   },
   "outputs": [
    {
     "data": {
      "image/png": "[encoded data removed]",
      "text/plain": [
       "<Figure size 1080x720 with 1 Axes>"
      ]
     },
     "metadata": {
      "needs_background": "light"
     },
     "output_type": "display_data"
    }
   ],
   "source": [
    "plt.figure(figsize=(15,10))\n",
    "plt.bar(range(X.shape[1]), importances[sorted_idx])\n",
    "plt.xticks(range(X.shape[1]), X.columns[sorted_idx], rotation='vertical')\n",
    "plt.xlabel('Feature')\n",
    "plt.ylabel('Feature Importance')\n",
    "plt.title('Feature Importances from Random Forest Classifier')\n",
    "plt.show()"
   ]
  },
  {
   "cell_type": "code",
   "execution_count": 451,
   "metadata": {
    "colab": {
     "base_uri": "https://localhost:8080/"
    },
    "id": "edRT_pqnrZs_",
    "outputId": "85743bfc-fd01-48bb-ab23-bd79f067bdfb"
   },
   "outputs": [
    {
     "name": "stdout",
     "output_type": "stream",
     "text": [
      "Fold 1 accuracy: 1.0000\n",
      "Fold 2 accuracy: 1.0000\n",
      "Fold 3 accuracy: 1.0000\n",
      "Fold 4 accuracy: 1.0000\n",
      "Fold 5 accuracy: 0.9714\n",
      "Fold 6 accuracy: 1.0000\n",
      "Fold 7 accuracy: 1.0000\n",
      "Fold 8 accuracy: 0.9706\n",
      "Fold 9 accuracy: 1.0000\n",
      "Fold 10 accuracy: 1.0000\n",
      "Average accuracy: 0.9942\n"
     ]
    }
   ],
   "source": [
    "from sklearn.ensemble import RandomForestClassifier\n",
    "from sklearn.model_selection import cross_val_score\n",
    "\n",
    "rf_classifier = RandomForestClassifier(n_estimators=100, random_state=42)\n",
    "\n",
    "# Perform 10-fold cross-validation\n",
    "k = 10\n",
    "scores = cross_val_score(rf_classifier, X, y, cv=k)\n",
    "\n",
    "# Print the accuracy for each fold\n",
    "for i in range(k):\n",
    "    print(f\"Fold {i+1} accuracy: {scores[i]:.4f}\")\n",
    "\n",
    "# Print the average accuracy across all folds\n",
    "print(f\"Average accuracy: {scores.mean():.4f}\")\n"
   ]
  },
  {
   "cell_type": "markdown",
   "metadata": {
    "id": "_7gTNOHIrZtA"
   },
   "source": [
    "Svm Classifier"
   ]
  },
  {
   "cell_type": "code",
   "execution_count": 452,
   "metadata": {
    "colab": {
     "base_uri": "https://localhost:8080/",
     "height": 74
    },
    "id": "V2doHhPNrZtA",
    "outputId": "87bc0e06-ba82-480f-9b03-f52afb785dcb"
   },
   "outputs": [
    {
     "data": {
      "text/plain": [
       "SVC(C=1000)"
      ]
     },
     "execution_count": 452,
     "metadata": {},
     "output_type": "execute_result"
    }
   ],
   "source": [
    "from sklearn.svm import SVC \n",
    "X_train, X_test, y_train, y_test = train_test_split(X, y, test_size=0.25)\n",
    "model = SVC(C=1000)\n",
    "model.fit(X_train, y_train)"
   ]
  },
  {
   "cell_type": "code",
   "execution_count": 453,
   "metadata": {
    "id": "-TvJ1YAkrZtA"
   },
   "outputs": [],
   "source": [
    "y_pred = model.predict(X_test)"
   ]
  },
  {
   "cell_type": "code",
   "execution_count": 454,
   "metadata": {
    "colab": {
     "base_uri": "https://localhost:8080/"
    },
    "id": "qkV6crm5rZtA",
    "outputId": "466eacb2-9109-4745-9a8c-8292086ef96d"
   },
   "outputs": [
    {
     "name": "stdout",
     "output_type": "stream",
     "text": [
      "1.0\n"
     ]
    }
   ],
   "source": [
    "from sklearn.metrics import accuracy_score\n",
    "print(accuracy_score(y_test, y_pred))"
   ]
  },
  {
   "cell_type": "code",
   "execution_count": 455,
   "metadata": {
    "colab": {
     "base_uri": "https://localhost:8080/"
    },
    "id": "IosbWdCMrZtB",
    "outputId": "af583dbe-d36e-421c-e669-7590dcafb4b6"
   },
   "outputs": [
    {
     "name": "stdout",
     "output_type": "stream",
     "text": [
      "Fold 1 accuracy: 1.0000\n",
      "Fold 2 accuracy: 1.0000\n",
      "Fold 3 accuracy: 1.0000\n",
      "Fold 4 accuracy: 1.0000\n",
      "Fold 5 accuracy: 0.9714\n",
      "Fold 6 accuracy: 1.0000\n",
      "Fold 7 accuracy: 1.0000\n",
      "Fold 8 accuracy: 1.0000\n",
      "Fold 9 accuracy: 1.0000\n",
      "Fold 10 accuracy: 1.0000\n",
      "Average accuracy: 0.9971\n"
     ]
    }
   ],
   "source": [
    "from sklearn.ensemble import RandomForestClassifier\n",
    "from sklearn.model_selection import cross_val_score\n",
    "\n",
    "svm_classifier = SVC(C=1000)\n",
    "\n",
    "k = 10\n",
    "scores = cross_val_score(svm_classifier, X, y, cv=k)\n",
    "\n",
    "# Print the accuracy for each fold\n",
    "for i in range(k):\n",
    "    print(f\"Fold {i+1} accuracy: {scores[i]:.4f}\")\n",
    "\n",
    "# Print the average accuracy across all folds\n",
    "print(f\"Average accuracy: {scores.mean():.4f}\")"
   ]
  },
  {
   "cell_type": "markdown",
   "metadata": {
    "id": "hkiUeerorZtB"
   },
   "source": [
    "Neural Network Model"
   ]
  },
  {
   "cell_type": "code",
   "execution_count": 456,
   "metadata": {
    "id": "DT9ZrC8ArZtB"
   },
   "outputs": [],
   "source": [
    "from tensorflow.keras.models import Sequential\n",
    "from tensorflow.keras.layers import Dense\n",
    "from numpy import unique,argmax"
   ]
  },
  {
   "cell_type": "code",
   "execution_count": 457,
   "metadata": {
    "id": "fWzQ4ev-rZtB"
   },
   "outputs": [],
   "source": [
    "xtrain, xtest, ytrain, ytest = train_test_split(X, y, test_size = 0.25)\n",
    "n_features = X.shape[1]\n",
    "n_class = len(unique(y))"
   ]
  },
  {
   "cell_type": "code",
   "execution_count": 458,
   "metadata": {
    "id": "9ErQe-ghrZtC"
   },
   "outputs": [],
   "source": [
    "model = Sequential()\n",
    "model.add(Dense(20, input_dim=n_features, activation='relu', kernel_initializer='he_normal'))\n",
    "model.add(Dense(10, activation='relu', kernel_initializer='he_normal'))\n",
    "model.add(Dense(n_class, activation='softmax'))"
   ]
  },
  {
   "cell_type": "code",
   "execution_count": 459,
   "metadata": {
    "id": "PMjjqgN2rZtC"
   },
   "outputs": [],
   "source": [
    "model.compile(loss='sparse_categorical_crossentropy', optimizer='adam',metrics=['accuracy'])"
   ]
  },
  {
   "cell_type": "code",
   "execution_count": 460,
   "metadata": {
    "colab": {
     "base_uri": "https://localhost:8080/"
    },
    "id": "RT245AP6rZtC",
    "outputId": "1bc52451-050f-4343-efa9-944943d964cf"
   },
   "outputs": [
    {
     "name": "stdout",
     "output_type": "stream",
     "text": [
      "Epoch 1/150\n",
      "18/18 [==============================] - 1s 12ms/step - loss: 0.6715 - accuracy: 0.6453 - val_loss: 0.5928 - val_accuracy: 0.7093\n",
      "Epoch 2/150\n",
      "18/18 [==============================] - 0s 4ms/step - loss: 0.5433 - accuracy: 0.7035 - val_loss: 0.5250 - val_accuracy: 0.7093\n",
      "Epoch 3/150\n",
      "18/18 [==============================] - 0s 4ms/step - loss: 0.4895 - accuracy: 0.7035 - val_loss: 0.4772 - val_accuracy: 0.7093\n",
      "Epoch 4/150\n",
      "18/18 [==============================] - 0s 4ms/step - loss: 0.4365 - accuracy: 0.7442 - val_loss: 0.4243 - val_accuracy: 0.7558\n",
      "Epoch 5/150\n",
      "18/18 [==============================] - 0s 4ms/step - loss: 0.3920 - accuracy: 0.7965 - val_loss: 0.3795 - val_accuracy: 0.8256\n",
      "Epoch 6/150\n",
      "18/18 [==============================] - 0s 4ms/step - loss: 0.3482 - accuracy: 0.8605 - val_loss: 0.3387 - val_accuracy: 0.8256\n",
      "Epoch 7/150\n",
      "18/18 [==============================] - 0s 4ms/step - loss: 0.3105 - accuracy: 0.8953 - val_loss: 0.3055 - val_accuracy: 0.8605\n",
      "Epoch 8/150\n",
      "18/18 [==============================] - 0s 4ms/step - loss: 0.2762 - accuracy: 0.9012 - val_loss: 0.2759 - val_accuracy: 0.8837\n",
      "Epoch 9/150\n",
      "18/18 [==============================] - 0s 4ms/step - loss: 0.2489 - accuracy: 0.9302 - val_loss: 0.2512 - val_accuracy: 0.9302\n",
      "Epoch 10/150\n",
      "18/18 [==============================] - 0s 4ms/step - loss: 0.2219 - accuracy: 0.9302 - val_loss: 0.2322 - val_accuracy: 0.9302\n",
      "Epoch 11/150\n",
      "18/18 [==============================] - 0s 4ms/step - loss: 0.1989 - accuracy: 0.9360 - val_loss: 0.2104 - val_accuracy: 0.9535\n",
      "Epoch 12/150\n",
      "18/18 [==============================] - 0s 4ms/step - loss: 0.1774 - accuracy: 0.9419 - val_loss: 0.1936 - val_accuracy: 0.9535\n",
      "Epoch 13/150\n",
      "18/18 [==============================] - 0s 4ms/step - loss: 0.1604 - accuracy: 0.9419 - val_loss: 0.1820 - val_accuracy: 0.9419\n",
      "Epoch 14/150\n",
      "18/18 [==============================] - 0s 4ms/step - loss: 0.1451 - accuracy: 0.9419 - val_loss: 0.1685 - val_accuracy: 0.9535\n",
      "Epoch 15/150\n",
      "18/18 [==============================] - 0s 4ms/step - loss: 0.1316 - accuracy: 0.9477 - val_loss: 0.1604 - val_accuracy: 0.9535\n",
      "Epoch 16/150\n",
      "18/18 [==============================] - 0s 4ms/step - loss: 0.1194 - accuracy: 0.9651 - val_loss: 0.1489 - val_accuracy: 0.9651\n",
      "Epoch 17/150\n",
      "18/18 [==============================] - 0s 4ms/step - loss: 0.1126 - accuracy: 0.9651 - val_loss: 0.1440 - val_accuracy: 0.9651\n",
      "Epoch 18/150\n",
      "18/18 [==============================] - 0s 4ms/step - loss: 0.1005 - accuracy: 0.9651 - val_loss: 0.1332 - val_accuracy: 0.9651\n",
      "Epoch 19/150\n",
      "18/18 [==============================] - 0s 4ms/step - loss: 0.0937 - accuracy: 0.9767 - val_loss: 0.1315 - val_accuracy: 0.9767\n",
      "Epoch 20/150\n",
      "18/18 [==============================] - 0s 4ms/step - loss: 0.0873 - accuracy: 0.9767 - val_loss: 0.1282 - val_accuracy: 0.9767\n",
      "Epoch 21/150\n",
      "18/18 [==============================] - 0s 4ms/step - loss: 0.0844 - accuracy: 0.9826 - val_loss: 0.1236 - val_accuracy: 0.9651\n",
      "Epoch 22/150\n",
      "18/18 [==============================] - 0s 4ms/step - loss: 0.0754 - accuracy: 0.9884 - val_loss: 0.1261 - val_accuracy: 0.9767\n",
      "Epoch 23/150\n",
      "18/18 [==============================] - 0s 4ms/step - loss: 0.0716 - accuracy: 0.9884 - val_loss: 0.1180 - val_accuracy: 0.9767\n",
      "Epoch 24/150\n",
      "18/18 [==============================] - 0s 4ms/step - loss: 0.0657 - accuracy: 0.9884 - val_loss: 0.1154 - val_accuracy: 0.9767\n",
      "Epoch 25/150\n",
      "18/18 [==============================] - 0s 4ms/step - loss: 0.0632 - accuracy: 0.9942 - val_loss: 0.1166 - val_accuracy: 0.9767\n",
      "Epoch 26/150\n",
      "18/18 [==============================] - 0s 4ms/step - loss: 0.0600 - accuracy: 0.9884 - val_loss: 0.1116 - val_accuracy: 0.9767\n",
      "Epoch 27/150\n",
      "18/18 [==============================] - 0s 4ms/step - loss: 0.0561 - accuracy: 0.9942 - val_loss: 0.1114 - val_accuracy: 0.9767\n",
      "Epoch 28/150\n",
      "18/18 [==============================] - 0s 4ms/step - loss: 0.0536 - accuracy: 0.9942 - val_loss: 0.1089 - val_accuracy: 0.9767\n",
      "Epoch 29/150\n",
      "18/18 [==============================] - 0s 4ms/step - loss: 0.0520 - accuracy: 0.9942 - val_loss: 0.1092 - val_accuracy: 0.9767\n",
      "Epoch 30/150\n",
      "18/18 [==============================] - 0s 4ms/step - loss: 0.0495 - accuracy: 0.9942 - val_loss: 0.1063 - val_accuracy: 0.9767\n",
      "Epoch 31/150\n",
      "18/18 [==============================] - 0s 4ms/step - loss: 0.0452 - accuracy: 0.9942 - val_loss: 0.1039 - val_accuracy: 0.9767\n",
      "Epoch 32/150\n",
      "18/18 [==============================] - 0s 4ms/step - loss: 0.0441 - accuracy: 0.9942 - val_loss: 0.1034 - val_accuracy: 0.9767\n",
      "Epoch 33/150\n",
      "18/18 [==============================] - 0s 4ms/step - loss: 0.0418 - accuracy: 0.9942 - val_loss: 0.1035 - val_accuracy: 0.9767\n",
      "Epoch 34/150\n",
      "18/18 [==============================] - 0s 4ms/step - loss: 0.0409 - accuracy: 0.9942 - val_loss: 0.1001 - val_accuracy: 0.9767\n",
      "Epoch 35/150\n",
      "18/18 [==============================] - 0s 4ms/step - loss: 0.0388 - accuracy: 0.9942 - val_loss: 0.1013 - val_accuracy: 0.9651\n",
      "Epoch 36/150\n",
      "18/18 [==============================] - 0s 4ms/step - loss: 0.0370 - accuracy: 0.9942 - val_loss: 0.1037 - val_accuracy: 0.9767\n",
      "Epoch 37/150\n",
      "18/18 [==============================] - 0s 4ms/step - loss: 0.0356 - accuracy: 0.9942 - val_loss: 0.0988 - val_accuracy: 0.9651\n",
      "Epoch 38/150\n",
      "18/18 [==============================] - 0s 4ms/step - loss: 0.0358 - accuracy: 0.9942 - val_loss: 0.1029 - val_accuracy: 0.9767\n",
      "Epoch 39/150\n",
      "18/18 [==============================] - 0s 4ms/step - loss: 0.0360 - accuracy: 0.9942 - val_loss: 0.0979 - val_accuracy: 0.9651\n",
      "Epoch 40/150\n",
      "18/18 [==============================] - 0s 4ms/step - loss: 0.0323 - accuracy: 0.9942 - val_loss: 0.0969 - val_accuracy: 0.9651\n",
      "Epoch 41/150\n",
      "18/18 [==============================] - 0s 4ms/step - loss: 0.0314 - accuracy: 0.9942 - val_loss: 0.0930 - val_accuracy: 0.9651\n",
      "Epoch 42/150\n",
      "18/18 [==============================] - 0s 4ms/step - loss: 0.0295 - accuracy: 0.9942 - val_loss: 0.0939 - val_accuracy: 0.9651\n",
      "Epoch 43/150\n",
      "18/18 [==============================] - 0s 4ms/step - loss: 0.0295 - accuracy: 0.9942 - val_loss: 0.0919 - val_accuracy: 0.9651\n",
      "Epoch 44/150\n",
      "18/18 [==============================] - 0s 4ms/step - loss: 0.0284 - accuracy: 0.9942 - val_loss: 0.0916 - val_accuracy: 0.9651\n",
      "Epoch 45/150\n",
      "18/18 [==============================] - 0s 4ms/step - loss: 0.0276 - accuracy: 0.9942 - val_loss: 0.0916 - val_accuracy: 0.9651\n",
      "Epoch 46/150\n",
      "18/18 [==============================] - 0s 4ms/step - loss: 0.0268 - accuracy: 0.9942 - val_loss: 0.0923 - val_accuracy: 0.9651\n",
      "Epoch 47/150\n",
      "18/18 [==============================] - 0s 4ms/step - loss: 0.0266 - accuracy: 0.9942 - val_loss: 0.0924 - val_accuracy: 0.9651\n",
      "Epoch 48/150\n",
      "18/18 [==============================] - 0s 4ms/step - loss: 0.0250 - accuracy: 0.9942 - val_loss: 0.0917 - val_accuracy: 0.9651\n",
      "Epoch 49/150\n",
      "18/18 [==============================] - 0s 5ms/step - loss: 0.0255 - accuracy: 0.9942 - val_loss: 0.0914 - val_accuracy: 0.9651\n",
      "Epoch 50/150\n",
      "18/18 [==============================] - 0s 4ms/step - loss: 0.0237 - accuracy: 0.9942 - val_loss: 0.0879 - val_accuracy: 0.9651\n",
      "Epoch 51/150\n",
      "18/18 [==============================] - 0s 4ms/step - loss: 0.0236 - accuracy: 0.9942 - val_loss: 0.0888 - val_accuracy: 0.9651\n",
      "Epoch 52/150\n",
      "18/18 [==============================] - 0s 4ms/step - loss: 0.0241 - accuracy: 0.9942 - val_loss: 0.0907 - val_accuracy: 0.9651\n",
      "Epoch 53/150\n",
      "18/18 [==============================] - 0s 4ms/step - loss: 0.0215 - accuracy: 0.9942 - val_loss: 0.0871 - val_accuracy: 0.9651\n",
      "Epoch 54/150\n",
      "18/18 [==============================] - 0s 4ms/step - loss: 0.0215 - accuracy: 0.9942 - val_loss: 0.0876 - val_accuracy: 0.9651\n",
      "Epoch 55/150\n",
      "18/18 [==============================] - 0s 4ms/step - loss: 0.0208 - accuracy: 0.9942 - val_loss: 0.0881 - val_accuracy: 0.9651\n",
      "Epoch 56/150\n",
      "18/18 [==============================] - 0s 4ms/step - loss: 0.0204 - accuracy: 0.9942 - val_loss: 0.0871 - val_accuracy: 0.9651\n",
      "Epoch 57/150\n",
      "18/18 [==============================] - 0s 5ms/step - loss: 0.0198 - accuracy: 0.9942 - val_loss: 0.0863 - val_accuracy: 0.9651\n",
      "Epoch 58/150\n",
      "18/18 [==============================] - 0s 4ms/step - loss: 0.0199 - accuracy: 0.9942 - val_loss: 0.0868 - val_accuracy: 0.9651\n"
     ]
    },
    {
     "name": "stdout",
     "output_type": "stream",
     "text": [
      "Epoch 59/150\n",
      "18/18 [==============================] - 0s 4ms/step - loss: 0.0200 - accuracy: 0.9942 - val_loss: 0.0894 - val_accuracy: 0.9651\n",
      "Epoch 60/150\n",
      "18/18 [==============================] - 0s 4ms/step - loss: 0.0190 - accuracy: 0.9942 - val_loss: 0.0853 - val_accuracy: 0.9651\n",
      "Epoch 61/150\n",
      "18/18 [==============================] - 0s 4ms/step - loss: 0.0177 - accuracy: 0.9942 - val_loss: 0.0878 - val_accuracy: 0.9651\n",
      "Epoch 62/150\n",
      "18/18 [==============================] - 0s 4ms/step - loss: 0.0171 - accuracy: 0.9942 - val_loss: 0.0869 - val_accuracy: 0.9651\n",
      "Epoch 63/150\n",
      "18/18 [==============================] - 0s 5ms/step - loss: 0.0171 - accuracy: 0.9942 - val_loss: 0.0856 - val_accuracy: 0.9651\n",
      "Epoch 64/150\n",
      "18/18 [==============================] - 0s 4ms/step - loss: 0.0161 - accuracy: 0.9942 - val_loss: 0.0819 - val_accuracy: 0.9651\n",
      "Epoch 65/150\n",
      "18/18 [==============================] - 0s 4ms/step - loss: 0.0156 - accuracy: 0.9942 - val_loss: 0.0836 - val_accuracy: 0.9651\n",
      "Epoch 66/150\n",
      "18/18 [==============================] - 0s 4ms/step - loss: 0.0152 - accuracy: 0.9942 - val_loss: 0.0844 - val_accuracy: 0.9651\n",
      "Epoch 67/150\n",
      "18/18 [==============================] - 0s 4ms/step - loss: 0.0150 - accuracy: 0.9942 - val_loss: 0.0848 - val_accuracy: 0.9651\n",
      "Epoch 68/150\n",
      "18/18 [==============================] - 0s 5ms/step - loss: 0.0142 - accuracy: 0.9942 - val_loss: 0.0834 - val_accuracy: 0.9651\n",
      "Epoch 69/150\n",
      "18/18 [==============================] - 0s 4ms/step - loss: 0.0143 - accuracy: 0.9942 - val_loss: 0.0829 - val_accuracy: 0.9651\n",
      "Epoch 70/150\n",
      "18/18 [==============================] - 0s 5ms/step - loss: 0.0151 - accuracy: 0.9942 - val_loss: 0.0831 - val_accuracy: 0.9651\n",
      "Epoch 71/150\n",
      "18/18 [==============================] - 0s 4ms/step - loss: 0.0131 - accuracy: 0.9942 - val_loss: 0.0826 - val_accuracy: 0.9651\n",
      "Epoch 72/150\n",
      "18/18 [==============================] - 0s 4ms/step - loss: 0.0136 - accuracy: 0.9942 - val_loss: 0.0818 - val_accuracy: 0.9651\n",
      "Epoch 73/150\n",
      "18/18 [==============================] - 0s 4ms/step - loss: 0.0126 - accuracy: 0.9942 - val_loss: 0.0815 - val_accuracy: 0.9651\n",
      "Epoch 74/150\n",
      "18/18 [==============================] - 0s 5ms/step - loss: 0.0116 - accuracy: 0.9942 - val_loss: 0.0811 - val_accuracy: 0.9651\n",
      "Epoch 75/150\n",
      "18/18 [==============================] - 0s 4ms/step - loss: 0.0119 - accuracy: 0.9942 - val_loss: 0.0815 - val_accuracy: 0.9651\n",
      "Epoch 76/150\n",
      "18/18 [==============================] - 0s 4ms/step - loss: 0.0114 - accuracy: 0.9942 - val_loss: 0.0805 - val_accuracy: 0.9651\n",
      "Epoch 77/150\n",
      "18/18 [==============================] - 0s 4ms/step - loss: 0.0109 - accuracy: 0.9942 - val_loss: 0.0812 - val_accuracy: 0.9651\n",
      "Epoch 78/150\n",
      "18/18 [==============================] - 0s 4ms/step - loss: 0.0107 - accuracy: 0.9942 - val_loss: 0.0814 - val_accuracy: 0.9651\n",
      "Epoch 79/150\n",
      "18/18 [==============================] - 0s 4ms/step - loss: 0.0100 - accuracy: 0.9942 - val_loss: 0.0808 - val_accuracy: 0.9651\n",
      "Epoch 80/150\n",
      "18/18 [==============================] - 0s 4ms/step - loss: 0.0108 - accuracy: 0.9942 - val_loss: 0.0796 - val_accuracy: 0.9651\n",
      "Epoch 81/150\n",
      "18/18 [==============================] - 0s 4ms/step - loss: 0.0205 - accuracy: 0.9942 - val_loss: 0.0935 - val_accuracy: 0.9767\n",
      "Epoch 82/150\n",
      "18/18 [==============================] - 0s 5ms/step - loss: 0.0114 - accuracy: 1.0000 - val_loss: 0.0869 - val_accuracy: 0.9651\n",
      "Epoch 83/150\n",
      "18/18 [==============================] - 0s 4ms/step - loss: 0.0086 - accuracy: 1.0000 - val_loss: 0.0793 - val_accuracy: 0.9651\n",
      "Epoch 84/150\n",
      "18/18 [==============================] - 0s 4ms/step - loss: 0.0084 - accuracy: 1.0000 - val_loss: 0.0799 - val_accuracy: 0.9651\n",
      "Epoch 85/150\n",
      "18/18 [==============================] - 0s 4ms/step - loss: 0.0079 - accuracy: 1.0000 - val_loss: 0.0817 - val_accuracy: 0.9651\n",
      "Epoch 86/150\n",
      "18/18 [==============================] - 0s 4ms/step - loss: 0.0083 - accuracy: 0.9942 - val_loss: 0.0810 - val_accuracy: 0.9651\n",
      "Epoch 87/150\n",
      "18/18 [==============================] - 0s 4ms/step - loss: 0.0076 - accuracy: 1.0000 - val_loss: 0.0790 - val_accuracy: 0.9651\n",
      "Epoch 88/150\n",
      "18/18 [==============================] - 0s 4ms/step - loss: 0.0072 - accuracy: 1.0000 - val_loss: 0.0785 - val_accuracy: 0.9651\n",
      "Epoch 89/150\n",
      "18/18 [==============================] - 0s 4ms/step - loss: 0.0073 - accuracy: 1.0000 - val_loss: 0.0790 - val_accuracy: 0.9651\n",
      "Epoch 90/150\n",
      "18/18 [==============================] - 0s 4ms/step - loss: 0.0070 - accuracy: 1.0000 - val_loss: 0.0793 - val_accuracy: 0.9651\n",
      "Epoch 91/150\n",
      "18/18 [==============================] - 0s 4ms/step - loss: 0.0068 - accuracy: 1.0000 - val_loss: 0.0781 - val_accuracy: 0.9651\n",
      "Epoch 92/150\n",
      "18/18 [==============================] - 0s 4ms/step - loss: 0.0064 - accuracy: 1.0000 - val_loss: 0.0775 - val_accuracy: 0.9651\n",
      "Epoch 93/150\n",
      "18/18 [==============================] - 0s 5ms/step - loss: 0.0067 - accuracy: 1.0000 - val_loss: 0.0748 - val_accuracy: 0.9651\n",
      "Epoch 94/150\n",
      "18/18 [==============================] - 0s 4ms/step - loss: 0.0067 - accuracy: 1.0000 - val_loss: 0.0749 - val_accuracy: 0.9651\n",
      "Epoch 95/150\n",
      "18/18 [==============================] - 0s 5ms/step - loss: 0.0063 - accuracy: 1.0000 - val_loss: 0.0750 - val_accuracy: 0.9651\n",
      "Epoch 96/150\n",
      "18/18 [==============================] - 0s 4ms/step - loss: 0.0058 - accuracy: 1.0000 - val_loss: 0.0756 - val_accuracy: 0.9651\n",
      "Epoch 97/150\n",
      "18/18 [==============================] - 0s 4ms/step - loss: 0.0056 - accuracy: 1.0000 - val_loss: 0.0736 - val_accuracy: 0.9651\n",
      "Epoch 98/150\n",
      "18/18 [==============================] - 0s 4ms/step - loss: 0.0055 - accuracy: 1.0000 - val_loss: 0.0744 - val_accuracy: 0.9651\n",
      "Epoch 99/150\n",
      "18/18 [==============================] - 0s 4ms/step - loss: 0.0055 - accuracy: 1.0000 - val_loss: 0.0742 - val_accuracy: 0.9651\n",
      "Epoch 100/150\n",
      "18/18 [==============================] - 0s 4ms/step - loss: 0.0054 - accuracy: 1.0000 - val_loss: 0.0736 - val_accuracy: 0.9651\n",
      "Epoch 101/150\n",
      "18/18 [==============================] - 0s 4ms/step - loss: 0.0051 - accuracy: 1.0000 - val_loss: 0.0732 - val_accuracy: 0.9651\n",
      "Epoch 102/150\n",
      "18/18 [==============================] - 0s 4ms/step - loss: 0.0050 - accuracy: 1.0000 - val_loss: 0.0738 - val_accuracy: 0.9651\n",
      "Epoch 103/150\n",
      "18/18 [==============================] - 0s 4ms/step - loss: 0.0048 - accuracy: 1.0000 - val_loss: 0.0743 - val_accuracy: 0.9767\n",
      "Epoch 104/150\n",
      "18/18 [==============================] - 0s 4ms/step - loss: 0.0047 - accuracy: 1.0000 - val_loss: 0.0741 - val_accuracy: 0.9651\n",
      "Epoch 105/150\n",
      "18/18 [==============================] - 0s 4ms/step - loss: 0.0046 - accuracy: 1.0000 - val_loss: 0.0729 - val_accuracy: 0.9651\n",
      "Epoch 106/150\n",
      "18/18 [==============================] - 0s 4ms/step - loss: 0.0044 - accuracy: 1.0000 - val_loss: 0.0727 - val_accuracy: 0.9651\n",
      "Epoch 107/150\n",
      "18/18 [==============================] - 0s 4ms/step - loss: 0.0046 - accuracy: 1.0000 - val_loss: 0.0730 - val_accuracy: 0.9651\n",
      "Epoch 108/150\n",
      "18/18 [==============================] - 0s 4ms/step - loss: 0.0046 - accuracy: 1.0000 - val_loss: 0.0734 - val_accuracy: 0.9767\n",
      "Epoch 109/150\n",
      "18/18 [==============================] - 0s 4ms/step - loss: 0.0043 - accuracy: 1.0000 - val_loss: 0.0740 - val_accuracy: 0.9651\n",
      "Epoch 110/150\n",
      "18/18 [==============================] - 0s 4ms/step - loss: 0.0041 - accuracy: 1.0000 - val_loss: 0.0739 - val_accuracy: 0.9767\n",
      "Epoch 111/150\n",
      "18/18 [==============================] - 0s 4ms/step - loss: 0.0040 - accuracy: 1.0000 - val_loss: 0.0736 - val_accuracy: 0.9767\n",
      "Epoch 112/150\n",
      "18/18 [==============================] - 0s 4ms/step - loss: 0.0038 - accuracy: 1.0000 - val_loss: 0.0730 - val_accuracy: 0.9767\n",
      "Epoch 113/150\n",
      "18/18 [==============================] - 0s 4ms/step - loss: 0.0038 - accuracy: 1.0000 - val_loss: 0.0733 - val_accuracy: 0.9767\n",
      "Epoch 114/150\n",
      "18/18 [==============================] - 0s 4ms/step - loss: 0.0038 - accuracy: 1.0000 - val_loss: 0.0727 - val_accuracy: 0.9767\n",
      "Epoch 115/150\n",
      "18/18 [==============================] - 0s 4ms/step - loss: 0.0036 - accuracy: 1.0000 - val_loss: 0.0707 - val_accuracy: 0.9767\n",
      "Epoch 116/150\n"
     ]
    },
    {
     "name": "stdout",
     "output_type": "stream",
     "text": [
      "18/18 [==============================] - 0s 4ms/step - loss: 0.0035 - accuracy: 1.0000 - val_loss: 0.0714 - val_accuracy: 0.9767\n",
      "Epoch 117/150\n",
      "18/18 [==============================] - 0s 4ms/step - loss: 0.0034 - accuracy: 1.0000 - val_loss: 0.0746 - val_accuracy: 0.9767\n",
      "Epoch 118/150\n",
      "18/18 [==============================] - 0s 4ms/step - loss: 0.0034 - accuracy: 1.0000 - val_loss: 0.0729 - val_accuracy: 0.9767\n",
      "Epoch 119/150\n",
      "18/18 [==============================] - 0s 4ms/step - loss: 0.0034 - accuracy: 1.0000 - val_loss: 0.0727 - val_accuracy: 0.9767\n",
      "Epoch 120/150\n",
      "18/18 [==============================] - 0s 4ms/step - loss: 0.0032 - accuracy: 1.0000 - val_loss: 0.0720 - val_accuracy: 0.9767\n",
      "Epoch 121/150\n",
      "18/18 [==============================] - 0s 4ms/step - loss: 0.0030 - accuracy: 1.0000 - val_loss: 0.0718 - val_accuracy: 0.9767\n",
      "Epoch 122/150\n",
      "18/18 [==============================] - 0s 4ms/step - loss: 0.0030 - accuracy: 1.0000 - val_loss: 0.0713 - val_accuracy: 0.9767\n",
      "Epoch 123/150\n",
      "18/18 [==============================] - 0s 4ms/step - loss: 0.0029 - accuracy: 1.0000 - val_loss: 0.0711 - val_accuracy: 0.9767\n",
      "Epoch 124/150\n",
      "18/18 [==============================] - 0s 4ms/step - loss: 0.0028 - accuracy: 1.0000 - val_loss: 0.0715 - val_accuracy: 0.9767\n",
      "Epoch 125/150\n",
      "18/18 [==============================] - 0s 4ms/step - loss: 0.0028 - accuracy: 1.0000 - val_loss: 0.0709 - val_accuracy: 0.9767\n",
      "Epoch 126/150\n",
      "18/18 [==============================] - 0s 4ms/step - loss: 0.0027 - accuracy: 1.0000 - val_loss: 0.0709 - val_accuracy: 0.9767\n",
      "Epoch 127/150\n",
      "18/18 [==============================] - 0s 4ms/step - loss: 0.0027 - accuracy: 1.0000 - val_loss: 0.0719 - val_accuracy: 0.9767\n",
      "Epoch 128/150\n",
      "18/18 [==============================] - 0s 4ms/step - loss: 0.0026 - accuracy: 1.0000 - val_loss: 0.0713 - val_accuracy: 0.9767\n",
      "Epoch 129/150\n",
      "18/18 [==============================] - 0s 4ms/step - loss: 0.0026 - accuracy: 1.0000 - val_loss: 0.0710 - val_accuracy: 0.9767\n",
      "Epoch 130/150\n",
      "18/18 [==============================] - 0s 4ms/step - loss: 0.0025 - accuracy: 1.0000 - val_loss: 0.0708 - val_accuracy: 0.9767\n",
      "Epoch 131/150\n",
      "18/18 [==============================] - 0s 4ms/step - loss: 0.0024 - accuracy: 1.0000 - val_loss: 0.0713 - val_accuracy: 0.9767\n",
      "Epoch 132/150\n",
      "18/18 [==============================] - 0s 4ms/step - loss: 0.0024 - accuracy: 1.0000 - val_loss: 0.0707 - val_accuracy: 0.9767\n",
      "Epoch 133/150\n",
      "18/18 [==============================] - 0s 4ms/step - loss: 0.0023 - accuracy: 1.0000 - val_loss: 0.0703 - val_accuracy: 0.9767\n",
      "Epoch 134/150\n",
      "18/18 [==============================] - 0s 4ms/step - loss: 0.0024 - accuracy: 1.0000 - val_loss: 0.0692 - val_accuracy: 0.9767\n",
      "Epoch 135/150\n",
      "18/18 [==============================] - 0s 4ms/step - loss: 0.0022 - accuracy: 1.0000 - val_loss: 0.0691 - val_accuracy: 0.9767\n",
      "Epoch 136/150\n",
      "18/18 [==============================] - 0s 4ms/step - loss: 0.0021 - accuracy: 1.0000 - val_loss: 0.0700 - val_accuracy: 0.9767\n",
      "Epoch 137/150\n",
      "18/18 [==============================] - 0s 4ms/step - loss: 0.0021 - accuracy: 1.0000 - val_loss: 0.0698 - val_accuracy: 0.9767\n",
      "Epoch 138/150\n",
      "18/18 [==============================] - 0s 4ms/step - loss: 0.0021 - accuracy: 1.0000 - val_loss: 0.0694 - val_accuracy: 0.9767\n",
      "Epoch 139/150\n",
      "18/18 [==============================] - 0s 4ms/step - loss: 0.0022 - accuracy: 1.0000 - val_loss: 0.0705 - val_accuracy: 0.9767\n",
      "Epoch 140/150\n",
      "18/18 [==============================] - 0s 4ms/step - loss: 0.0020 - accuracy: 1.0000 - val_loss: 0.0701 - val_accuracy: 0.9767\n",
      "Epoch 141/150\n",
      "18/18 [==============================] - 0s 4ms/step - loss: 0.0019 - accuracy: 1.0000 - val_loss: 0.0699 - val_accuracy: 0.9767\n",
      "Epoch 142/150\n",
      "18/18 [==============================] - 0s 4ms/step - loss: 0.0020 - accuracy: 1.0000 - val_loss: 0.0696 - val_accuracy: 0.9767\n",
      "Epoch 143/150\n",
      "18/18 [==============================] - 0s 4ms/step - loss: 0.0020 - accuracy: 1.0000 - val_loss: 0.0701 - val_accuracy: 0.9767\n",
      "Epoch 144/150\n",
      "18/18 [==============================] - 0s 4ms/step - loss: 0.0019 - accuracy: 1.0000 - val_loss: 0.0692 - val_accuracy: 0.9767\n",
      "Epoch 145/150\n",
      "18/18 [==============================] - 0s 4ms/step - loss: 0.0018 - accuracy: 1.0000 - val_loss: 0.0699 - val_accuracy: 0.9767\n",
      "Epoch 146/150\n",
      "18/18 [==============================] - 0s 4ms/step - loss: 0.0017 - accuracy: 1.0000 - val_loss: 0.0700 - val_accuracy: 0.9767\n",
      "Epoch 147/150\n",
      "18/18 [==============================] - 0s 4ms/step - loss: 0.0017 - accuracy: 1.0000 - val_loss: 0.0705 - val_accuracy: 0.9767\n",
      "Epoch 148/150\n",
      "18/18 [==============================] - 0s 4ms/step - loss: 0.0016 - accuracy: 1.0000 - val_loss: 0.0698 - val_accuracy: 0.9767\n",
      "Epoch 149/150\n",
      "18/18 [==============================] - 0s 4ms/step - loss: 0.0016 - accuracy: 1.0000 - val_loss: 0.0691 - val_accuracy: 0.9767\n",
      "Epoch 150/150\n",
      "18/18 [==============================] - 0s 4ms/step - loss: 0.0016 - accuracy: 1.0000 - val_loss: 0.0694 - val_accuracy: 0.9767\n"
     ]
    },
    {
     "data": {
      "text/plain": [
       "<keras.callbacks.History at 0x215d3a26760>"
      ]
     },
     "execution_count": 460,
     "metadata": {},
     "output_type": "execute_result"
    }
   ],
   "source": [
    "model.fit(xtrain, ytrain, validation_split=0.33, epochs=150, batch_size=10)"
   ]
  },
  {
   "cell_type": "code",
   "execution_count": 461,
   "metadata": {
    "colab": {
     "base_uri": "https://localhost:8080/"
    },
    "id": "-NKtcG6brZtD",
    "outputId": "11dfdcf5-f162-4442-8c86-3ac08b1e43ce",
    "scrolled": true
   },
   "outputs": [],
   "source": [
    "yhat = model.predict(xtest)"
   ]
  },
  {
   "cell_type": "code",
   "execution_count": 462,
   "metadata": {
    "colab": {
     "base_uri": "https://localhost:8080/"
    },
    "id": "ZsBHTHb3rZtD",
    "outputId": "4050aee4-5815-47ec-9bbe-a4f6065bf5e1"
   },
   "outputs": [
    {
     "name": "stdout",
     "output_type": "stream",
     "text": [
      "Accuracy: 1.000\n"
     ]
    }
   ],
   "source": [
    "yhat = argmax(yhat, axis=-1).astype('int')\n",
    "acc = accuracy_score(ytest, yhat)\n",
    "print('Accuracy: %.3f' % acc)"
   ]
  },
  {
   "cell_type": "code",
   "execution_count": null,
   "metadata": {},
   "outputs": [],
   "source": []
  },
  {
   "cell_type": "markdown",
   "metadata": {},
   "source": [
    "# WITH PCA WITH  NORMALIZATION"
   ]
  },
  {
   "cell_type": "code",
   "execution_count": 463,
   "metadata": {},
   "outputs": [],
   "source": [
    "from sklearn.decomposition import PCA\n",
    "pca = PCA(n_components=20)\n",
    "principalComponents = pca.fit_transform(X)\n",
    "\n",
    "columns = []\n",
    "for i in range(1,21):\n",
    "    columns.append('pc'+str(i))\n",
    "\n",
    "principal_Df = pd.DataFrame(data = principalComponents\n",
    "             , columns = columns)\n",
    "principal_Df.head()\n",
    "X = principal_Df"
   ]
  },
  {
   "cell_type": "markdown",
   "metadata": {
    "id": "Sb6twK6CrZs-"
   },
   "source": [
    "Random Forest Classifier"
   ]
  },
  {
   "cell_type": "code",
   "execution_count": 464,
   "metadata": {
    "id": "XkPIAyzIrZs-"
   },
   "outputs": [],
   "source": [
    "X_train, X_test, y_train, y_test = train_test_split(X, y, test_size=0.25)\n",
    "\n",
    "# Initialize the Random Forest Classifier\n",
    "clf = RandomForestClassifier(n_estimators=100, random_state=42)  # You can adjust the number of estimators as needed\n",
    "\n",
    "# Train the model\n",
    "clf.fit(X_train, y_train)\n",
    "\n",
    "# Predict on the testing set\n",
    "y_pred = clf.predict(X_test)"
   ]
  },
  {
   "cell_type": "code",
   "execution_count": 465,
   "metadata": {
    "colab": {
     "base_uri": "https://localhost:8080/"
    },
    "id": "IXI6ZrIjrZs-",
    "outputId": "c1075786-ea08-4591-dcd4-bc26d7ef7b9c"
   },
   "outputs": [
    {
     "name": "stdout",
     "output_type": "stream",
     "text": [
      "Accuracy: 0.9770114942528736\n",
      "Feature Importances:\n",
      "1. Feature 'pc2': 0.2601894755882225\n",
      "2. Feature 'pc1': 0.17698202688250844\n",
      "3. Feature 'pc5': 0.10436125235209984\n",
      "4. Feature 'pc9': 0.07891032987212239\n",
      "5. Feature 'pc6': 0.05550061418456108\n",
      "6. Feature 'pc4': 0.04005739482298753\n",
      "7. Feature 'pc15': 0.0340569843363294\n",
      "8. Feature 'pc11': 0.03270111025431647\n",
      "9. Feature 'pc18': 0.03236095628396871\n",
      "10. Feature 'pc16': 0.027105423490158338\n",
      "11. Feature 'pc7': 0.026669125437161267\n",
      "12. Feature 'pc20': 0.02496592812782913\n",
      "13. Feature 'pc8': 0.01980318987731125\n",
      "14. Feature 'pc14': 0.018301117658901925\n",
      "15. Feature 'pc12': 0.016073016899947678\n",
      "16. Feature 'pc13': 0.01581726331420293\n",
      "17. Feature 'pc3': 0.012755921559641663\n",
      "18. Feature 'pc17': 0.008751522778210395\n",
      "19. Feature 'pc10': 0.007950810545075689\n",
      "20. Feature 'pc19': 0.006686535734443487\n"
     ]
    }
   ],
   "source": [
    "accuracy = accuracy_score(y_test, y_pred)\n",
    "print(\"Accuracy:\", accuracy)\n",
    "\n",
    "# Get feature importances\n",
    "importances = clf.feature_importances_\n",
    "\n",
    "# Sort feature importances in descending order\n",
    "sorted_idx = np.argsort(importances)[::-1]\n",
    "\n",
    "# Print feature importances\n",
    "print(\"Feature Importances:\")\n",
    "for i in range(X.shape[1]):\n",
    "    print(f\"{i+1}. Feature '{X.columns[sorted_idx[i]]}': {importances[sorted_idx[i]]}\")\n"
   ]
  },
  {
   "cell_type": "code",
   "execution_count": 466,
   "metadata": {
    "colab": {
     "base_uri": "https://localhost:8080/",
     "height": 732
    },
    "id": "VQZ1ovYXrZs_",
    "outputId": "b96314c5-5565-4b11-b413-366d10248daf"
   },
   "outputs": [
    {
     "data": {
      "image/png": "[encoded data removed]",
      "text/plain": [
       "<Figure size 432x288 with 1 Axes>"
      ]
     },
     "metadata": {
      "needs_background": "light"
     },
     "output_type": "display_data"
    }
   ],
   "source": [
    "plt.bar(range(X.shape[1]), importances[sorted_idx])\n",
    "plt.xticks(range(X.shape[1]), X.columns[sorted_idx], rotation='vertical')\n",
    "plt.xlabel('Feature')\n",
    "plt.ylabel('Feature Importance')\n",
    "plt.title('Feature Importances from Random Forest Classifier')\n",
    "plt.show()"
   ]
  },
  {
   "cell_type": "code",
   "execution_count": 467,
   "metadata": {
    "colab": {
     "base_uri": "https://localhost:8080/"
    },
    "id": "edRT_pqnrZs_",
    "outputId": "85743bfc-fd01-48bb-ab23-bd79f067bdfb"
   },
   "outputs": [
    {
     "name": "stdout",
     "output_type": "stream",
     "text": [
      "Fold 1 accuracy: 1.0000\n",
      "Fold 2 accuracy: 1.0000\n",
      "Fold 3 accuracy: 1.0000\n",
      "Fold 4 accuracy: 0.9714\n",
      "Fold 5 accuracy: 0.9429\n",
      "Fold 6 accuracy: 0.9706\n",
      "Fold 7 accuracy: 0.9706\n",
      "Fold 8 accuracy: 0.9412\n",
      "Fold 9 accuracy: 1.0000\n",
      "Fold 10 accuracy: 0.9706\n",
      "Average accuracy: 0.9767\n"
     ]
    }
   ],
   "source": [
    "from sklearn.ensemble import RandomForestClassifier\n",
    "from sklearn.model_selection import cross_val_score\n",
    "\n",
    "rf_classifier = RandomForestClassifier(n_estimators=100, random_state=42)\n",
    "\n",
    "# Perform 10-fold cross-validation\n",
    "k = 10\n",
    "scores = cross_val_score(rf_classifier, X, y, cv=k)\n",
    "\n",
    "# Print the accuracy for each fold\n",
    "for i in range(k):\n",
    "    print(f\"Fold {i+1} accuracy: {scores[i]:.4f}\")\n",
    "\n",
    "# Print the average accuracy across all folds\n",
    "print(f\"Average accuracy: {scores.mean():.4f}\")\n"
   ]
  },
  {
   "cell_type": "markdown",
   "metadata": {
    "id": "_7gTNOHIrZtA"
   },
   "source": [
    "Svm Classifier"
   ]
  },
  {
   "cell_type": "code",
   "execution_count": 468,
   "metadata": {
    "colab": {
     "base_uri": "https://localhost:8080/",
     "height": 74
    },
    "id": "V2doHhPNrZtA",
    "outputId": "87bc0e06-ba82-480f-9b03-f52afb785dcb"
   },
   "outputs": [
    {
     "data": {
      "text/plain": [
       "SVC(C=1000)"
      ]
     },
     "execution_count": 468,
     "metadata": {},
     "output_type": "execute_result"
    }
   ],
   "source": [
    "from sklearn.svm import SVC \n",
    "X_train, X_test, y_train, y_test = train_test_split(X, y, test_size=0.25)\n",
    "model = SVC(C=1000)\n",
    "model.fit(X_train, y_train)"
   ]
  },
  {
   "cell_type": "code",
   "execution_count": 469,
   "metadata": {
    "id": "-TvJ1YAkrZtA"
   },
   "outputs": [],
   "source": [
    "y_pred = model.predict(X_test)"
   ]
  },
  {
   "cell_type": "code",
   "execution_count": 470,
   "metadata": {
    "colab": {
     "base_uri": "https://localhost:8080/"
    },
    "id": "qkV6crm5rZtA",
    "outputId": "466eacb2-9109-4745-9a8c-8292086ef96d"
   },
   "outputs": [
    {
     "name": "stdout",
     "output_type": "stream",
     "text": [
      "1.0\n"
     ]
    }
   ],
   "source": [
    "from sklearn.metrics import accuracy_score\n",
    "print(accuracy_score(y_test, y_pred))"
   ]
  },
  {
   "cell_type": "code",
   "execution_count": 471,
   "metadata": {
    "colab": {
     "base_uri": "https://localhost:8080/"
    },
    "id": "IosbWdCMrZtB",
    "outputId": "af583dbe-d36e-421c-e669-7590dcafb4b6"
   },
   "outputs": [
    {
     "name": "stdout",
     "output_type": "stream",
     "text": [
      "Fold 1 accuracy: 1.0000\n",
      "Fold 2 accuracy: 1.0000\n",
      "Fold 3 accuracy: 1.0000\n",
      "Fold 4 accuracy: 1.0000\n",
      "Fold 5 accuracy: 0.9714\n",
      "Fold 6 accuracy: 1.0000\n",
      "Fold 7 accuracy: 1.0000\n",
      "Fold 8 accuracy: 1.0000\n",
      "Fold 9 accuracy: 1.0000\n",
      "Fold 10 accuracy: 1.0000\n",
      "Average accuracy: 0.9971\n"
     ]
    }
   ],
   "source": [
    "from sklearn.ensemble import RandomForestClassifier\n",
    "from sklearn.model_selection import cross_val_score\n",
    "\n",
    "svm_classifier = SVC(C=1000)\n",
    "\n",
    "k = 10\n",
    "scores = cross_val_score(svm_classifier, X, y, cv=k)\n",
    "\n",
    "# Print the accuracy for each fold\n",
    "for i in range(k):\n",
    "    print(f\"Fold {i+1} accuracy: {scores[i]:.4f}\")\n",
    "\n",
    "# Print the average accuracy across all folds\n",
    "print(f\"Average accuracy: {scores.mean():.4f}\")"
   ]
  },
  {
   "cell_type": "markdown",
   "metadata": {
    "id": "hkiUeerorZtB"
   },
   "source": [
    "Neural Network Model"
   ]
  },
  {
   "cell_type": "code",
   "execution_count": 472,
   "metadata": {
    "id": "DT9ZrC8ArZtB"
   },
   "outputs": [],
   "source": [
    "from tensorflow.keras.models import Sequential\n",
    "from tensorflow.keras.layers import Dense\n",
    "from numpy import unique,argmax"
   ]
  },
  {
   "cell_type": "code",
   "execution_count": 473,
   "metadata": {
    "id": "fWzQ4ev-rZtB"
   },
   "outputs": [],
   "source": [
    "xtrain, xtest, ytrain, ytest = train_test_split(X, y, test_size = 0.25)\n",
    "n_features = X.shape[1]\n",
    "n_class = len(unique(y))"
   ]
  },
  {
   "cell_type": "code",
   "execution_count": 474,
   "metadata": {
    "id": "9ErQe-ghrZtC"
   },
   "outputs": [],
   "source": [
    "model = Sequential()\n",
    "model.add(Dense(20, input_dim=n_features, activation='relu', kernel_initializer='he_normal'))\n",
    "model.add(Dense(10, activation='relu', kernel_initializer='he_normal'))\n",
    "model.add(Dense(n_class, activation='softmax'))"
   ]
  },
  {
   "cell_type": "code",
   "execution_count": 475,
   "metadata": {
    "id": "PMjjqgN2rZtC"
   },
   "outputs": [],
   "source": [
    "model.compile(loss='sparse_categorical_crossentropy', optimizer='adam',metrics=['accuracy'])"
   ]
  },
  {
   "cell_type": "code",
   "execution_count": 476,
   "metadata": {
    "colab": {
     "base_uri": "https://localhost:8080/"
    },
    "id": "RT245AP6rZtC",
    "outputId": "1bc52451-050f-4343-efa9-944943d964cf"
   },
   "outputs": [
    {
     "name": "stdout",
     "output_type": "stream",
     "text": [
      "Epoch 1/150\n",
      "18/18 [==============================] - 1s 12ms/step - loss: 0.7110 - accuracy: 0.4244 - val_loss: 0.6634 - val_accuracy: 0.6628\n",
      "Epoch 2/150\n",
      "18/18 [==============================] - 0s 4ms/step - loss: 0.6597 - accuracy: 0.7267 - val_loss: 0.6247 - val_accuracy: 0.8140\n",
      "Epoch 3/150\n",
      "18/18 [==============================] - 0s 4ms/step - loss: 0.6173 - accuracy: 0.8372 - val_loss: 0.5917 - val_accuracy: 0.8953\n",
      "Epoch 4/150\n",
      "18/18 [==============================] - 0s 4ms/step - loss: 0.5767 - accuracy: 0.8779 - val_loss: 0.5560 - val_accuracy: 0.8953\n",
      "Epoch 5/150\n",
      "18/18 [==============================] - 0s 4ms/step - loss: 0.5348 - accuracy: 0.9302 - val_loss: 0.5191 - val_accuracy: 0.9419\n",
      "Epoch 6/150\n",
      "18/18 [==============================] - 0s 4ms/step - loss: 0.4911 - accuracy: 0.9709 - val_loss: 0.4798 - val_accuracy: 0.9767\n",
      "Epoch 7/150\n",
      "18/18 [==============================] - 0s 4ms/step - loss: 0.4442 - accuracy: 0.9709 - val_loss: 0.4370 - val_accuracy: 0.9767\n",
      "Epoch 8/150\n",
      "18/18 [==============================] - 0s 4ms/step - loss: 0.3963 - accuracy: 0.9767 - val_loss: 0.3938 - val_accuracy: 0.9767\n",
      "Epoch 9/150\n",
      "18/18 [==============================] - 0s 4ms/step - loss: 0.3494 - accuracy: 0.9767 - val_loss: 0.3506 - val_accuracy: 0.9767\n",
      "Epoch 10/150\n",
      "18/18 [==============================] - 0s 4ms/step - loss: 0.3050 - accuracy: 0.9826 - val_loss: 0.3116 - val_accuracy: 0.9767\n",
      "Epoch 11/150\n",
      "18/18 [==============================] - 0s 4ms/step - loss: 0.2654 - accuracy: 0.9826 - val_loss: 0.2756 - val_accuracy: 0.9767\n",
      "Epoch 12/150\n",
      "18/18 [==============================] - 0s 4ms/step - loss: 0.2300 - accuracy: 0.9826 - val_loss: 0.2442 - val_accuracy: 0.9767\n",
      "Epoch 13/150\n",
      "18/18 [==============================] - 0s 4ms/step - loss: 0.1991 - accuracy: 0.9884 - val_loss: 0.2150 - val_accuracy: 0.9767\n",
      "Epoch 14/150\n",
      "18/18 [==============================] - 0s 4ms/step - loss: 0.1716 - accuracy: 0.9884 - val_loss: 0.1928 - val_accuracy: 0.9767\n",
      "Epoch 15/150\n",
      "18/18 [==============================] - 0s 4ms/step - loss: 0.1492 - accuracy: 0.9884 - val_loss: 0.1739 - val_accuracy: 0.9767\n",
      "Epoch 16/150\n",
      "18/18 [==============================] - 0s 4ms/step - loss: 0.1313 - accuracy: 0.9884 - val_loss: 0.1593 - val_accuracy: 0.9767\n",
      "Epoch 17/150\n",
      "18/18 [==============================] - 0s 4ms/step - loss: 0.1164 - accuracy: 0.9884 - val_loss: 0.1466 - val_accuracy: 0.9767\n",
      "Epoch 18/150\n",
      "18/18 [==============================] - 0s 4ms/step - loss: 0.1037 - accuracy: 0.9884 - val_loss: 0.1378 - val_accuracy: 0.9767\n",
      "Epoch 19/150\n",
      "18/18 [==============================] - 0s 4ms/step - loss: 0.0939 - accuracy: 0.9884 - val_loss: 0.1283 - val_accuracy: 0.9767\n",
      "Epoch 20/150\n",
      "18/18 [==============================] - 0s 4ms/step - loss: 0.0846 - accuracy: 0.9884 - val_loss: 0.1219 - val_accuracy: 0.9767\n",
      "Epoch 21/150\n",
      "18/18 [==============================] - 0s 4ms/step - loss: 0.0771 - accuracy: 0.9942 - val_loss: 0.1168 - val_accuracy: 0.9767\n",
      "Epoch 22/150\n",
      "18/18 [==============================] - 0s 4ms/step - loss: 0.0702 - accuracy: 0.9942 - val_loss: 0.1116 - val_accuracy: 0.9767\n",
      "Epoch 23/150\n",
      "18/18 [==============================] - 0s 4ms/step - loss: 0.0644 - accuracy: 0.9942 - val_loss: 0.1067 - val_accuracy: 0.9767\n",
      "Epoch 24/150\n",
      "18/18 [==============================] - 0s 4ms/step - loss: 0.0594 - accuracy: 0.9942 - val_loss: 0.1030 - val_accuracy: 0.9767\n",
      "Epoch 25/150\n",
      "18/18 [==============================] - 0s 4ms/step - loss: 0.0547 - accuracy: 0.9942 - val_loss: 0.0993 - val_accuracy: 0.9767\n",
      "Epoch 26/150\n",
      "18/18 [==============================] - 0s 4ms/step - loss: 0.0503 - accuracy: 0.9942 - val_loss: 0.0959 - val_accuracy: 0.9767\n",
      "Epoch 27/150\n",
      "18/18 [==============================] - 0s 4ms/step - loss: 0.0470 - accuracy: 0.9942 - val_loss: 0.0942 - val_accuracy: 0.9767\n",
      "Epoch 28/150\n",
      "18/18 [==============================] - 0s 4ms/step - loss: 0.0431 - accuracy: 0.9942 - val_loss: 0.0909 - val_accuracy: 0.9767\n",
      "Epoch 29/150\n",
      "18/18 [==============================] - 0s 4ms/step - loss: 0.0399 - accuracy: 0.9942 - val_loss: 0.0880 - val_accuracy: 0.9767\n",
      "Epoch 30/150\n",
      "18/18 [==============================] - 0s 4ms/step - loss: 0.0367 - accuracy: 0.9942 - val_loss: 0.0852 - val_accuracy: 0.9767\n",
      "Epoch 31/150\n",
      "18/18 [==============================] - 0s 4ms/step - loss: 0.0341 - accuracy: 0.9942 - val_loss: 0.0829 - val_accuracy: 0.9767\n",
      "Epoch 32/150\n",
      "18/18 [==============================] - 0s 4ms/step - loss: 0.0314 - accuracy: 0.9942 - val_loss: 0.0816 - val_accuracy: 0.9767\n",
      "Epoch 33/150\n",
      "18/18 [==============================] - 0s 5ms/step - loss: 0.0293 - accuracy: 0.9942 - val_loss: 0.0789 - val_accuracy: 0.9767\n",
      "Epoch 34/150\n",
      "18/18 [==============================] - 0s 4ms/step - loss: 0.0269 - accuracy: 0.9942 - val_loss: 0.0776 - val_accuracy: 0.9767\n",
      "Epoch 35/150\n",
      "18/18 [==============================] - 0s 4ms/step - loss: 0.0250 - accuracy: 0.9942 - val_loss: 0.0763 - val_accuracy: 0.9767\n",
      "Epoch 36/150\n",
      "18/18 [==============================] - 0s 4ms/step - loss: 0.0231 - accuracy: 0.9942 - val_loss: 0.0755 - val_accuracy: 0.9767\n",
      "Epoch 37/150\n",
      "18/18 [==============================] - 0s 4ms/step - loss: 0.0215 - accuracy: 0.9942 - val_loss: 0.0740 - val_accuracy: 0.9767\n",
      "Epoch 38/150\n",
      "18/18 [==============================] - 0s 4ms/step - loss: 0.0201 - accuracy: 0.9942 - val_loss: 0.0723 - val_accuracy: 0.9767\n",
      "Epoch 39/150\n",
      "18/18 [==============================] - 0s 4ms/step - loss: 0.0187 - accuracy: 0.9942 - val_loss: 0.0708 - val_accuracy: 0.9767\n",
      "Epoch 40/150\n",
      "18/18 [==============================] - 0s 4ms/step - loss: 0.0173 - accuracy: 1.0000 - val_loss: 0.0701 - val_accuracy: 0.9767\n",
      "Epoch 41/150\n",
      "18/18 [==============================] - 0s 4ms/step - loss: 0.0160 - accuracy: 1.0000 - val_loss: 0.0694 - val_accuracy: 0.9767\n",
      "Epoch 42/150\n",
      "18/18 [==============================] - 0s 4ms/step - loss: 0.0150 - accuracy: 1.0000 - val_loss: 0.0687 - val_accuracy: 0.9767\n",
      "Epoch 43/150\n",
      "18/18 [==============================] - 0s 4ms/step - loss: 0.0142 - accuracy: 1.0000 - val_loss: 0.0677 - val_accuracy: 0.9767\n",
      "Epoch 44/150\n",
      "18/18 [==============================] - 0s 4ms/step - loss: 0.0131 - accuracy: 1.0000 - val_loss: 0.0683 - val_accuracy: 0.9767\n",
      "Epoch 45/150\n",
      "18/18 [==============================] - 0s 4ms/step - loss: 0.0123 - accuracy: 1.0000 - val_loss: 0.0676 - val_accuracy: 0.9767\n",
      "Epoch 46/150\n",
      "18/18 [==============================] - 0s 4ms/step - loss: 0.0116 - accuracy: 1.0000 - val_loss: 0.0666 - val_accuracy: 0.9767\n",
      "Epoch 47/150\n",
      "18/18 [==============================] - 0s 4ms/step - loss: 0.0108 - accuracy: 1.0000 - val_loss: 0.0661 - val_accuracy: 0.9767\n",
      "Epoch 48/150\n",
      "18/18 [==============================] - 0s 4ms/step - loss: 0.0102 - accuracy: 1.0000 - val_loss: 0.0657 - val_accuracy: 0.9767\n",
      "Epoch 49/150\n",
      "18/18 [==============================] - 0s 4ms/step - loss: 0.0097 - accuracy: 1.0000 - val_loss: 0.0669 - val_accuracy: 0.9767\n",
      "Epoch 50/150\n",
      "18/18 [==============================] - 0s 4ms/step - loss: 0.0092 - accuracy: 1.0000 - val_loss: 0.0655 - val_accuracy: 0.9767\n",
      "Epoch 51/150\n",
      "18/18 [==============================] - 0s 4ms/step - loss: 0.0087 - accuracy: 1.0000 - val_loss: 0.0642 - val_accuracy: 0.9767\n",
      "Epoch 52/150\n",
      "18/18 [==============================] - 0s 4ms/step - loss: 0.0082 - accuracy: 1.0000 - val_loss: 0.0650 - val_accuracy: 0.9767\n",
      "Epoch 53/150\n",
      "18/18 [==============================] - 0s 4ms/step - loss: 0.0078 - accuracy: 1.0000 - val_loss: 0.0643 - val_accuracy: 0.9767\n",
      "Epoch 54/150\n",
      "18/18 [==============================] - 0s 4ms/step - loss: 0.0074 - accuracy: 1.0000 - val_loss: 0.0631 - val_accuracy: 0.9767\n",
      "Epoch 55/150\n",
      "18/18 [==============================] - 0s 4ms/step - loss: 0.0070 - accuracy: 1.0000 - val_loss: 0.0630 - val_accuracy: 0.9767\n",
      "Epoch 56/150\n",
      "18/18 [==============================] - 0s 4ms/step - loss: 0.0067 - accuracy: 1.0000 - val_loss: 0.0630 - val_accuracy: 0.9767\n",
      "Epoch 57/150\n",
      "18/18 [==============================] - 0s 4ms/step - loss: 0.0064 - accuracy: 1.0000 - val_loss: 0.0625 - val_accuracy: 0.9767\n",
      "Epoch 58/150\n",
      "18/18 [==============================] - 0s 4ms/step - loss: 0.0060 - accuracy: 1.0000 - val_loss: 0.0627 - val_accuracy: 0.9767\n"
     ]
    },
    {
     "name": "stdout",
     "output_type": "stream",
     "text": [
      "Epoch 59/150\n",
      "18/18 [==============================] - 0s 4ms/step - loss: 0.0058 - accuracy: 1.0000 - val_loss: 0.0628 - val_accuracy: 0.9767\n",
      "Epoch 60/150\n",
      "18/18 [==============================] - 0s 4ms/step - loss: 0.0055 - accuracy: 1.0000 - val_loss: 0.0622 - val_accuracy: 0.9884\n",
      "Epoch 61/150\n",
      "18/18 [==============================] - 0s 4ms/step - loss: 0.0053 - accuracy: 1.0000 - val_loss: 0.0624 - val_accuracy: 0.9884\n",
      "Epoch 62/150\n",
      "18/18 [==============================] - 0s 4ms/step - loss: 0.0051 - accuracy: 1.0000 - val_loss: 0.0621 - val_accuracy: 0.9884\n",
      "Epoch 63/150\n",
      "18/18 [==============================] - 0s 4ms/step - loss: 0.0049 - accuracy: 1.0000 - val_loss: 0.0616 - val_accuracy: 0.9884\n",
      "Epoch 64/150\n",
      "18/18 [==============================] - 0s 4ms/step - loss: 0.0047 - accuracy: 1.0000 - val_loss: 0.0618 - val_accuracy: 0.9884\n",
      "Epoch 65/150\n",
      "18/18 [==============================] - 0s 4ms/step - loss: 0.0045 - accuracy: 1.0000 - val_loss: 0.0617 - val_accuracy: 0.9884\n",
      "Epoch 66/150\n",
      "18/18 [==============================] - 0s 4ms/step - loss: 0.0043 - accuracy: 1.0000 - val_loss: 0.0610 - val_accuracy: 0.9884\n",
      "Epoch 67/150\n",
      "18/18 [==============================] - 0s 4ms/step - loss: 0.0042 - accuracy: 1.0000 - val_loss: 0.0609 - val_accuracy: 0.9884\n",
      "Epoch 68/150\n",
      "18/18 [==============================] - 0s 4ms/step - loss: 0.0040 - accuracy: 1.0000 - val_loss: 0.0612 - val_accuracy: 0.9884\n",
      "Epoch 69/150\n",
      "18/18 [==============================] - 0s 3ms/step - loss: 0.0038 - accuracy: 1.0000 - val_loss: 0.0610 - val_accuracy: 0.9884\n",
      "Epoch 70/150\n",
      "18/18 [==============================] - 0s 4ms/step - loss: 0.0037 - accuracy: 1.0000 - val_loss: 0.0609 - val_accuracy: 0.9884\n",
      "Epoch 71/150\n",
      "18/18 [==============================] - 0s 4ms/step - loss: 0.0036 - accuracy: 1.0000 - val_loss: 0.0605 - val_accuracy: 0.9884\n",
      "Epoch 72/150\n",
      "18/18 [==============================] - 0s 4ms/step - loss: 0.0034 - accuracy: 1.0000 - val_loss: 0.0610 - val_accuracy: 0.9884\n",
      "Epoch 73/150\n",
      "18/18 [==============================] - 0s 4ms/step - loss: 0.0033 - accuracy: 1.0000 - val_loss: 0.0609 - val_accuracy: 0.9884\n",
      "Epoch 74/150\n",
      "18/18 [==============================] - 0s 4ms/step - loss: 0.0032 - accuracy: 1.0000 - val_loss: 0.0612 - val_accuracy: 0.9884\n",
      "Epoch 75/150\n",
      "18/18 [==============================] - 0s 4ms/step - loss: 0.0031 - accuracy: 1.0000 - val_loss: 0.0612 - val_accuracy: 0.9884\n",
      "Epoch 76/150\n",
      "18/18 [==============================] - 0s 4ms/step - loss: 0.0029 - accuracy: 1.0000 - val_loss: 0.0579 - val_accuracy: 0.9884\n",
      "Epoch 77/150\n",
      "18/18 [==============================] - 0s 4ms/step - loss: 0.0029 - accuracy: 1.0000 - val_loss: 0.0578 - val_accuracy: 0.9884\n",
      "Epoch 78/150\n",
      "18/18 [==============================] - 0s 4ms/step - loss: 0.0028 - accuracy: 1.0000 - val_loss: 0.0581 - val_accuracy: 0.9884\n",
      "Epoch 79/150\n",
      "18/18 [==============================] - 0s 4ms/step - loss: 0.0027 - accuracy: 1.0000 - val_loss: 0.0583 - val_accuracy: 0.9884\n",
      "Epoch 80/150\n",
      "18/18 [==============================] - 0s 4ms/step - loss: 0.0026 - accuracy: 1.0000 - val_loss: 0.0590 - val_accuracy: 0.9884\n",
      "Epoch 81/150\n",
      "18/18 [==============================] - 0s 5ms/step - loss: 0.0025 - accuracy: 1.0000 - val_loss: 0.0593 - val_accuracy: 0.9884\n",
      "Epoch 82/150\n",
      "18/18 [==============================] - 0s 5ms/step - loss: 0.0024 - accuracy: 1.0000 - val_loss: 0.0598 - val_accuracy: 0.9884\n",
      "Epoch 83/150\n",
      "18/18 [==============================] - 0s 4ms/step - loss: 0.0023 - accuracy: 1.0000 - val_loss: 0.0600 - val_accuracy: 0.9884\n",
      "Epoch 84/150\n",
      "18/18 [==============================] - 0s 3ms/step - loss: 0.0023 - accuracy: 1.0000 - val_loss: 0.0599 - val_accuracy: 0.9884\n",
      "Epoch 85/150\n",
      "18/18 [==============================] - 0s 4ms/step - loss: 0.0022 - accuracy: 1.0000 - val_loss: 0.0605 - val_accuracy: 0.9884\n",
      "Epoch 86/150\n",
      "18/18 [==============================] - 0s 4ms/step - loss: 0.0021 - accuracy: 1.0000 - val_loss: 0.0605 - val_accuracy: 0.9884\n",
      "Epoch 87/150\n",
      "18/18 [==============================] - 0s 4ms/step - loss: 0.0021 - accuracy: 1.0000 - val_loss: 0.0605 - val_accuracy: 0.9884\n",
      "Epoch 88/150\n",
      "18/18 [==============================] - 0s 4ms/step - loss: 0.0020 - accuracy: 1.0000 - val_loss: 0.0606 - val_accuracy: 0.9884\n",
      "Epoch 89/150\n",
      "18/18 [==============================] - 0s 4ms/step - loss: 0.0020 - accuracy: 1.0000 - val_loss: 0.0606 - val_accuracy: 0.9884\n",
      "Epoch 90/150\n",
      "18/18 [==============================] - 0s 4ms/step - loss: 0.0019 - accuracy: 1.0000 - val_loss: 0.0606 - val_accuracy: 0.9884\n",
      "Epoch 91/150\n",
      "18/18 [==============================] - 0s 4ms/step - loss: 0.0018 - accuracy: 1.0000 - val_loss: 0.0607 - val_accuracy: 0.9884\n",
      "Epoch 92/150\n",
      "18/18 [==============================] - 0s 4ms/step - loss: 0.0018 - accuracy: 1.0000 - val_loss: 0.0608 - val_accuracy: 0.9884\n",
      "Epoch 93/150\n",
      "18/18 [==============================] - 0s 4ms/step - loss: 0.0017 - accuracy: 1.0000 - val_loss: 0.0607 - val_accuracy: 0.9884\n",
      "Epoch 94/150\n",
      "18/18 [==============================] - 0s 4ms/step - loss: 0.0017 - accuracy: 1.0000 - val_loss: 0.0607 - val_accuracy: 0.9884\n",
      "Epoch 95/150\n",
      "18/18 [==============================] - 0s 4ms/step - loss: 0.0017 - accuracy: 1.0000 - val_loss: 0.0613 - val_accuracy: 0.9884\n",
      "Epoch 96/150\n",
      "18/18 [==============================] - 0s 4ms/step - loss: 0.0016 - accuracy: 1.0000 - val_loss: 0.0617 - val_accuracy: 0.9884\n",
      "Epoch 97/150\n",
      "18/18 [==============================] - 0s 4ms/step - loss: 0.0016 - accuracy: 1.0000 - val_loss: 0.0616 - val_accuracy: 0.9884\n",
      "Epoch 98/150\n",
      "18/18 [==============================] - 0s 4ms/step - loss: 0.0015 - accuracy: 1.0000 - val_loss: 0.0615 - val_accuracy: 0.9884\n",
      "Epoch 99/150\n",
      "18/18 [==============================] - 0s 4ms/step - loss: 0.0015 - accuracy: 1.0000 - val_loss: 0.0611 - val_accuracy: 0.9884\n",
      "Epoch 100/150\n",
      "18/18 [==============================] - 0s 4ms/step - loss: 0.0014 - accuracy: 1.0000 - val_loss: 0.0611 - val_accuracy: 0.9884\n",
      "Epoch 101/150\n",
      "18/18 [==============================] - 0s 4ms/step - loss: 0.0014 - accuracy: 1.0000 - val_loss: 0.0611 - val_accuracy: 0.9884\n",
      "Epoch 102/150\n",
      "18/18 [==============================] - 0s 4ms/step - loss: 0.0014 - accuracy: 1.0000 - val_loss: 0.0593 - val_accuracy: 0.9884\n",
      "Epoch 103/150\n",
      "18/18 [==============================] - 0s 4ms/step - loss: 0.0013 - accuracy: 1.0000 - val_loss: 0.0592 - val_accuracy: 0.9884\n",
      "Epoch 104/150\n",
      "18/18 [==============================] - 0s 4ms/step - loss: 0.0013 - accuracy: 1.0000 - val_loss: 0.0601 - val_accuracy: 0.9884\n",
      "Epoch 105/150\n",
      "18/18 [==============================] - 0s 4ms/step - loss: 0.0013 - accuracy: 1.0000 - val_loss: 0.0605 - val_accuracy: 0.9884\n",
      "Epoch 106/150\n",
      "18/18 [==============================] - 0s 4ms/step - loss: 0.0012 - accuracy: 1.0000 - val_loss: 0.0605 - val_accuracy: 0.9884\n",
      "Epoch 107/150\n",
      "18/18 [==============================] - 0s 5ms/step - loss: 0.0012 - accuracy: 1.0000 - val_loss: 0.0606 - val_accuracy: 0.9884\n",
      "Epoch 108/150\n",
      "18/18 [==============================] - 0s 4ms/step - loss: 0.0012 - accuracy: 1.0000 - val_loss: 0.0602 - val_accuracy: 0.9884\n",
      "Epoch 109/150\n",
      "18/18 [==============================] - 0s 4ms/step - loss: 0.0011 - accuracy: 1.0000 - val_loss: 0.0603 - val_accuracy: 0.9884\n",
      "Epoch 110/150\n",
      "18/18 [==============================] - 0s 4ms/step - loss: 0.0011 - accuracy: 1.0000 - val_loss: 0.0605 - val_accuracy: 0.9884\n",
      "Epoch 111/150\n",
      "18/18 [==============================] - 0s 4ms/step - loss: 0.0011 - accuracy: 1.0000 - val_loss: 0.0608 - val_accuracy: 0.9884\n",
      "Epoch 112/150\n",
      "18/18 [==============================] - 0s 4ms/step - loss: 0.0011 - accuracy: 1.0000 - val_loss: 0.0609 - val_accuracy: 0.9884\n",
      "Epoch 113/150\n",
      "18/18 [==============================] - 0s 4ms/step - loss: 0.0010 - accuracy: 1.0000 - val_loss: 0.0611 - val_accuracy: 0.9884\n",
      "Epoch 114/150\n",
      "18/18 [==============================] - 0s 4ms/step - loss: 0.0010 - accuracy: 1.0000 - val_loss: 0.0611 - val_accuracy: 0.9884\n",
      "Epoch 115/150\n",
      "18/18 [==============================] - 0s 4ms/step - loss: 9.8365e-04 - accuracy: 1.0000 - val_loss: 0.0614 - val_accuracy: 0.9884\n",
      "Epoch 116/150\n"
     ]
    },
    {
     "name": "stdout",
     "output_type": "stream",
     "text": [
      "18/18 [==============================] - 0s 4ms/step - loss: 9.6575e-04 - accuracy: 1.0000 - val_loss: 0.0622 - val_accuracy: 0.9884\n",
      "Epoch 117/150\n",
      "18/18 [==============================] - 0s 4ms/step - loss: 9.3994e-04 - accuracy: 1.0000 - val_loss: 0.0619 - val_accuracy: 0.9884\n",
      "Epoch 118/150\n",
      "18/18 [==============================] - 0s 4ms/step - loss: 9.1918e-04 - accuracy: 1.0000 - val_loss: 0.0619 - val_accuracy: 0.9884\n",
      "Epoch 119/150\n",
      "18/18 [==============================] - 0s 4ms/step - loss: 8.9997e-04 - accuracy: 1.0000 - val_loss: 0.0620 - val_accuracy: 0.9884\n",
      "Epoch 120/150\n",
      "18/18 [==============================] - 0s 4ms/step - loss: 8.7909e-04 - accuracy: 1.0000 - val_loss: 0.0621 - val_accuracy: 0.9884\n",
      "Epoch 121/150\n",
      "18/18 [==============================] - 0s 4ms/step - loss: 8.6376e-04 - accuracy: 1.0000 - val_loss: 0.0624 - val_accuracy: 0.9884\n",
      "Epoch 122/150\n",
      "18/18 [==============================] - 0s 4ms/step - loss: 8.4461e-04 - accuracy: 1.0000 - val_loss: 0.0623 - val_accuracy: 0.9884\n",
      "Epoch 123/150\n",
      "18/18 [==============================] - 0s 4ms/step - loss: 8.2686e-04 - accuracy: 1.0000 - val_loss: 0.0627 - val_accuracy: 0.9884\n",
      "Epoch 124/150\n",
      "18/18 [==============================] - 0s 4ms/step - loss: 8.0689e-04 - accuracy: 1.0000 - val_loss: 0.0624 - val_accuracy: 0.9884\n",
      "Epoch 125/150\n",
      "18/18 [==============================] - 0s 4ms/step - loss: 7.9194e-04 - accuracy: 1.0000 - val_loss: 0.0622 - val_accuracy: 0.9884\n",
      "Epoch 126/150\n",
      "18/18 [==============================] - 0s 4ms/step - loss: 7.7665e-04 - accuracy: 1.0000 - val_loss: 0.0625 - val_accuracy: 0.9884\n",
      "Epoch 127/150\n",
      "18/18 [==============================] - 0s 4ms/step - loss: 7.6239e-04 - accuracy: 1.0000 - val_loss: 0.0626 - val_accuracy: 0.9884\n",
      "Epoch 128/150\n",
      "18/18 [==============================] - 0s 4ms/step - loss: 7.4523e-04 - accuracy: 1.0000 - val_loss: 0.0626 - val_accuracy: 0.9884\n",
      "Epoch 129/150\n",
      "18/18 [==============================] - 0s 4ms/step - loss: 7.3072e-04 - accuracy: 1.0000 - val_loss: 0.0626 - val_accuracy: 0.9884\n",
      "Epoch 130/150\n",
      "18/18 [==============================] - 0s 4ms/step - loss: 7.1594e-04 - accuracy: 1.0000 - val_loss: 0.0629 - val_accuracy: 0.9884\n",
      "Epoch 131/150\n",
      "18/18 [==============================] - 0s 4ms/step - loss: 7.0282e-04 - accuracy: 1.0000 - val_loss: 0.0629 - val_accuracy: 0.9884\n",
      "Epoch 132/150\n",
      "18/18 [==============================] - 0s 4ms/step - loss: 6.8808e-04 - accuracy: 1.0000 - val_loss: 0.0630 - val_accuracy: 0.9884\n",
      "Epoch 133/150\n",
      "18/18 [==============================] - 0s 4ms/step - loss: 6.7626e-04 - accuracy: 1.0000 - val_loss: 0.0630 - val_accuracy: 0.9884\n",
      "Epoch 134/150\n",
      "18/18 [==============================] - 0s 4ms/step - loss: 6.6273e-04 - accuracy: 1.0000 - val_loss: 0.0632 - val_accuracy: 0.9884\n",
      "Epoch 135/150\n",
      "18/18 [==============================] - 0s 4ms/step - loss: 6.4895e-04 - accuracy: 1.0000 - val_loss: 0.0633 - val_accuracy: 0.9884\n",
      "Epoch 136/150\n",
      "18/18 [==============================] - 0s 4ms/step - loss: 6.3839e-04 - accuracy: 1.0000 - val_loss: 0.0636 - val_accuracy: 0.9884\n",
      "Epoch 137/150\n",
      "18/18 [==============================] - 0s 5ms/step - loss: 6.2505e-04 - accuracy: 1.0000 - val_loss: 0.0636 - val_accuracy: 0.9884\n",
      "Epoch 138/150\n",
      "18/18 [==============================] - 0s 4ms/step - loss: 6.0766e-04 - accuracy: 1.0000 - val_loss: 0.0620 - val_accuracy: 0.9884\n",
      "Epoch 139/150\n",
      "18/18 [==============================] - 0s 4ms/step - loss: 6.0061e-04 - accuracy: 1.0000 - val_loss: 0.0619 - val_accuracy: 0.9884\n",
      "Epoch 140/150\n",
      "18/18 [==============================] - 0s 4ms/step - loss: 5.8798e-04 - accuracy: 1.0000 - val_loss: 0.0624 - val_accuracy: 0.9884\n",
      "Epoch 141/150\n",
      "18/18 [==============================] - 0s 4ms/step - loss: 5.7603e-04 - accuracy: 1.0000 - val_loss: 0.0626 - val_accuracy: 0.9884\n",
      "Epoch 142/150\n",
      "18/18 [==============================] - 0s 4ms/step - loss: 5.6392e-04 - accuracy: 1.0000 - val_loss: 0.0635 - val_accuracy: 0.9884\n",
      "Epoch 143/150\n",
      "18/18 [==============================] - 0s 4ms/step - loss: 5.5536e-04 - accuracy: 1.0000 - val_loss: 0.0643 - val_accuracy: 0.9884\n",
      "Epoch 144/150\n",
      "18/18 [==============================] - 0s 4ms/step - loss: 5.4115e-04 - accuracy: 1.0000 - val_loss: 0.0639 - val_accuracy: 0.9884\n",
      "Epoch 145/150\n",
      "18/18 [==============================] - 0s 4ms/step - loss: 5.3011e-04 - accuracy: 1.0000 - val_loss: 0.0642 - val_accuracy: 0.9884\n",
      "Epoch 146/150\n",
      "18/18 [==============================] - 0s 4ms/step - loss: 5.1837e-04 - accuracy: 1.0000 - val_loss: 0.0643 - val_accuracy: 0.9884\n",
      "Epoch 147/150\n",
      "18/18 [==============================] - 0s 4ms/step - loss: 5.0883e-04 - accuracy: 1.0000 - val_loss: 0.0642 - val_accuracy: 0.9884\n",
      "Epoch 148/150\n",
      "18/18 [==============================] - 0s 4ms/step - loss: 4.9997e-04 - accuracy: 1.0000 - val_loss: 0.0646 - val_accuracy: 0.9884\n",
      "Epoch 149/150\n",
      "18/18 [==============================] - 0s 4ms/step - loss: 4.9036e-04 - accuracy: 1.0000 - val_loss: 0.0646 - val_accuracy: 0.9884\n",
      "Epoch 150/150\n",
      "18/18 [==============================] - 0s 4ms/step - loss: 4.8250e-04 - accuracy: 1.0000 - val_loss: 0.0640 - val_accuracy: 0.9884\n"
     ]
    },
    {
     "data": {
      "text/plain": [
       "<keras.callbacks.History at 0x215cfdd4220>"
      ]
     },
     "execution_count": 476,
     "metadata": {},
     "output_type": "execute_result"
    }
   ],
   "source": [
    "model.fit(xtrain, ytrain, validation_split=0.33, epochs=150, batch_size=10)"
   ]
  },
  {
   "cell_type": "code",
   "execution_count": 477,
   "metadata": {
    "colab": {
     "base_uri": "https://localhost:8080/"
    },
    "id": "-NKtcG6brZtD",
    "outputId": "11dfdcf5-f162-4442-8c86-3ac08b1e43ce",
    "scrolled": true
   },
   "outputs": [],
   "source": [
    "yhat = model.predict(xtest)"
   ]
  },
  {
   "cell_type": "code",
   "execution_count": 478,
   "metadata": {
    "colab": {
     "base_uri": "https://localhost:8080/"
    },
    "id": "ZsBHTHb3rZtD",
    "outputId": "4050aee4-5815-47ec-9bbe-a4f6065bf5e1"
   },
   "outputs": [
    {
     "name": "stdout",
     "output_type": "stream",
     "text": [
      "Accuracy: 0.989\n"
     ]
    }
   ],
   "source": [
    "yhat = argmax(yhat, axis=-1).astype('int')\n",
    "acc = accuracy_score(ytest, yhat)\n",
    "print('Accuracy: %.3f' % acc)"
   ]
  },
  {
   "cell_type": "code",
   "execution_count": null,
   "metadata": {},
   "outputs": [],
   "source": []
  },
  {
   "cell_type": "code",
   "execution_count": null,
   "metadata": {},
   "outputs": [],
   "source": []
  },
  {
   "cell_type": "code",
   "execution_count": null,
   "metadata": {},
   "outputs": [],
   "source": []
  }
 ],
 "metadata": {
  "colab": {
   "provenance": []
  },
  "kernelspec": {
   "display_name": "Python 3 (ipykernel)",
   "language": "python",
   "name": "python3"
  },
  "language_info": {
   "codemirror_mode": {
    "name": "ipython",
    "version": 3
   },
   "file_extension": ".py",
   "mimetype": "text/x-python",
   "name": "python",
   "nbconvert_exporter": "python",
   "pygments_lexer": "ipython3",
   "version": "3.9.7"
  }
 },
 "nbformat": 4,
 "nbformat_minor": 1
}
